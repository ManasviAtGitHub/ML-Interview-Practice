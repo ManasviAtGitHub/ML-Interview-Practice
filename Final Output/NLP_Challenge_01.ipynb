{
  "nbformat": 4,
  "nbformat_minor": 0,
  "metadata": {
    "colab": {
      "provenance": []
    },
    "kernelspec": {
      "name": "python3",
      "display_name": "Python 3"
    },
    "language_info": {
      "name": "python"
    }
  },
  "cells": [
    {
      "cell_type": "markdown",
      "source": [
        "## Load the folder from drive"
      ],
      "metadata": {
        "id": "se1xQSdvcoX3"
      }
    },
    {
      "cell_type": "code",
      "source": [
        "from google.colab import drive\n",
        "drive.mount('/content/drive/')"
      ],
      "metadata": {
        "colab": {
          "base_uri": "https://localhost:8080/"
        },
        "id": "LZdZTLPnWc8p",
        "outputId": "f90c584c-6f27-47de-b5f9-4214d7bfcbe0"
      },
      "execution_count": 55,
      "outputs": [
        {
          "output_type": "stream",
          "name": "stdout",
          "text": [
            "Drive already mounted at /content/drive/; to attempt to forcibly remount, call drive.mount(\"/content/drive/\", force_remount=True).\n"
          ]
        }
      ]
    },
    {
      "cell_type": "code",
      "source": [
        "!ls"
      ],
      "metadata": {
        "colab": {
          "base_uri": "https://localhost:8080/"
        },
        "id": "qFobFh8dZNaB",
        "outputId": "9779f2b5-69a0-4348-be63-09abd487ca02"
      },
      "execution_count": 56,
      "outputs": [
        {
          "output_type": "stream",
          "name": "stdout",
          "text": [
            " articles\t    Objective.docx\t\t  StopWords\n",
            " Input.xlsx\t   'Output Data Structure.xlsx'  'Text Analysis.docx'\n",
            " MasterDictionary   output.xlsx\n"
          ]
        }
      ]
    },
    {
      "cell_type": "code",
      "source": [
        "cd drive/MyDrive/Test_completion/Black_Coffer"
      ],
      "metadata": {
        "colab": {
          "base_uri": "https://localhost:8080/"
        },
        "id": "pAHTIi0qZVJd",
        "outputId": "b96fa5f7-5c3c-4c63-c5c5-37edf7a31111"
      },
      "execution_count": 2,
      "outputs": [
        {
          "output_type": "stream",
          "name": "stdout",
          "text": [
            "/content/drive/MyDrive/Test_completion/Black_Coffer\n"
          ]
        }
      ]
    },
    {
      "cell_type": "markdown",
      "source": [
        "## Load data into structures needful for scrapping"
      ],
      "metadata": {
        "id": "tZZhB_oxdrwr"
      }
    },
    {
      "cell_type": "code",
      "source": [
        "import pandas as pd\n",
        "dataset = pd.read_excel('Input.xlsx')\n",
        "mylist = dataset['URL'].tolist()"
      ],
      "metadata": {
        "colab": {
          "base_uri": "https://localhost:8080/"
        },
        "id": "bSxC2Y2OI5Vp",
        "outputId": "0e5a1271-f15d-4092-8605-08e1900c6e68"
      },
      "execution_count": 57,
      "outputs": [
        {
          "output_type": "stream",
          "name": "stdout",
          "text": [
            "['https://insights.blackcoffer.com/ai-in-healthcare-to-improve-patient-outcomes/', 'https://insights.blackcoffer.com/what-if-the-creation-is-taking-over-the-creator/', 'https://insights.blackcoffer.com/what-jobs-will-robots-take-from-humans-in-the-future/', 'https://insights.blackcoffer.com/will-machine-replace-the-human-in-the-future-of-work/', 'https://insights.blackcoffer.com/will-ai-replace-us-or-work-with-us/', 'https://insights.blackcoffer.com/man-and-machines-together-machines-are-more-diligent-than-humans-blackcoffe/', 'https://insights.blackcoffer.com/in-future-or-in-upcoming-years-humans-and-machines-are-going-to-work-together-in-every-field-of-work/', 'https://insights.blackcoffer.com/how-neural-networks-can-be-applied-in-various-areas-in-the-future/', 'https://insights.blackcoffer.com/how-machine-learning-will-affect-your-business/', 'https://insights.blackcoffer.com/deep-learning-impact-on-areas-of-e-learning/', 'https://insights.blackcoffer.com/how-to-protect-future-data-and-its-privacy-blackcoffer/', 'https://insights.blackcoffer.com/how-machines-ai-automations-and-robo-human-are-effective-in-finance-and-banking/', 'https://insights.blackcoffer.com/ai-human-robotics-machine-future-planet-blackcoffer-thinking-jobs-workplace/', 'https://insights.blackcoffer.com/how-ai-will-change-the-world-blackcoffer/', 'https://insights.blackcoffer.com/future-of-work-how-ai-has-entered-the-workplace/', 'https://insights.blackcoffer.com/ai-tool-alexa-google-assistant-finance-banking-tool-future/', 'https://insights.blackcoffer.com/ai-healthcare-revolution-ml-technology-algorithm-google-analytics-industrialrevolution/', 'https://insights.blackcoffer.com/all-you-need-to-know-about-online-marketing/', 'https://insights.blackcoffer.com/evolution-of-advertising-industry/', 'https://insights.blackcoffer.com/how-data-analytics-can-help-your-business-respond-to-the-impact-of-covid-19/', 'https://insights.blackcoffer.com/covid-19-environmental-impact-for-the-future/', 'https://insights.blackcoffer.com/environmental-impact-of-the-covid-19-pandemic-lesson-for-the-future/', 'https://insights.blackcoffer.com/how-data-analytics-and-ai-are-used-to-halt-the-covid-19-pandemic/', 'https://insights.blackcoffer.com/difference-between-artificial-intelligence-machine-learning-statistics-and-data-mining/', 'https://insights.blackcoffer.com/how-python-became-the-first-choice-for-data-science/', 'https://insights.blackcoffer.com/how-google-fit-measure-heart-and-respiratory-rates-using-a-phone/', 'https://insights.blackcoffer.com/what-is-the-future-of-mobile-apps/', 'https://insights.blackcoffer.com/impact-of-ai-in-health-and-medicine/', 'https://insights.blackcoffer.com/telemedicine-what-patients-like-and-dislike-about-it/', 'https://insights.blackcoffer.com/how-we-forecast-future-technologies/', 'https://insights.blackcoffer.com/can-robots-tackle-late-life-loneliness/', 'https://insights.blackcoffer.com/embedding-care-robots-into-society-socio-technical-considerations/', 'https://insights.blackcoffer.com/management-challenges-for-future-digitalization-of-healthcare-services/', 'https://insights.blackcoffer.com/are-we-any-closer-to-preventing-a-nuclear-holocaust/', 'https://insights.blackcoffer.com/will-technology-eliminate-the-need-for-animal-testing-in-drug-development/', 'https://insights.blackcoffer.com/will-we-ever-understand-the-nature-of-consciousness/', 'https://insights.blackcoffer.com/will-we-ever-colonize-outer-space/', 'https://insights.blackcoffer.com/what-is-the-chance-homo-sapiens-will-survive-for-the-next-500-years/', 'https://insights.blackcoffer.com/why-does-your-business-need-a-chatbot/', 'https://insights.blackcoffer.com/how-you-lead-a-project-or-a-team-without-any-technical-expertise/', 'https://insights.blackcoffer.com/can-you-be-great-leader-without-technical-expertise/', 'https://insights.blackcoffer.com/how-does-artificial-intelligence-affect-the-environment/', 'https://insights.blackcoffer.com/how-to-overcome-your-fear-of-making-mistakes-2/', 'https://insights.blackcoffer.com/is-perfection-the-greatest-enemy-of-productivity/', 'https://insights.blackcoffer.com/global-financial-crisis-2008-causes-effects-and-its-solution/', 'https://insights.blackcoffer.com/gender-diversity-and-equality-in-the-tech-industry/', 'https://insights.blackcoffer.com/how-to-overcome-your-fear-of-making-mistakes/', 'https://insights.blackcoffer.com/how-small-business-can-survive-the-coronavirus-crisis/', 'https://insights.blackcoffer.com/impacts-of-covid-19-on-vegetable-vendors-and-food-stalls/', 'https://insights.blackcoffer.com/impacts-of-covid-19-on-vegetable-vendors/', 'https://insights.blackcoffer.com/impact-of-covid-19-pandemic-on-tourism-aviation-industries/', 'https://insights.blackcoffer.com/impact-of-covid-19-pandemic-on-sports-events-around-the-world/', 'https://insights.blackcoffer.com/changing-landscape-and-emerging-trends-in-the-indian-it-ites-industry/', 'https://insights.blackcoffer.com/online-gaming-adolescent-online-gaming-effects-demotivated-depression-musculoskeletal-and-psychosomatic-symptoms/', 'https://insights.blackcoffer.com/human-rights-outlook/', 'https://insights.blackcoffer.com/how-voice-search-makes-your-business-a-successful-business/', 'https://insights.blackcoffer.com/how-the-covid-19-crisis-is-redefining-jobs-and-services/', 'https://insights.blackcoffer.com/how-to-increase-social-media-engagement-for-marketers/', 'https://insights.blackcoffer.com/impacts-of-covid-19-on-streets-sides-food-stalls/', 'https://insights.blackcoffer.com/coronavirus-impact-on-energy-markets-2/', 'https://insights.blackcoffer.com/coronavirus-impact-on-the-hospitality-industry-5/', 'https://insights.blackcoffer.com/lessons-from-the-past-some-key-learnings-relevant-to-the-coronavirus-crisis-4/', 'https://insights.blackcoffer.com/estimating-the-impact-of-covid-19-on-the-world-of-work-2/', 'https://insights.blackcoffer.com/estimating-the-impact-of-covid-19-on-the-world-of-work-3/', 'https://insights.blackcoffer.com/travel-and-tourism-outlook/', 'https://insights.blackcoffer.com/gaming-disorder-and-effects-of-gaming-on-health/', 'https://insights.blackcoffer.com/what-is-the-repercussion-of-the-environment-due-to-the-covid-19-pandemic-situation/', 'https://insights.blackcoffer.com/what-is-the-repercussion-of-the-environment-due-to-the-covid-19-pandemic-situation-2/', 'https://insights.blackcoffer.com/impact-of-covid-19-pandemic-on-office-space-and-co-working-industries/', 'https://insights.blackcoffer.com/contribution-of-handicrafts-visual-arts-literature-in-the-indian-economy/', 'https://insights.blackcoffer.com/how-covid-19-is-impacting-payment-preferences/', 'https://insights.blackcoffer.com/how-will-covid-19-affect-the-world-of-work-2/', 'https://insights.blackcoffer.com/lessons-from-the-past-some-key-learnings-relevant-to-the-coronavirus-crisis/', 'https://insights.blackcoffer.com/covid-19-how-have-countries-been-responding/', 'https://insights.blackcoffer.com/coronavirus-impact-on-the-hospitality-industry-2/', 'https://insights.blackcoffer.com/how-will-covid-19-affect-the-world-of-work-3/', 'https://insights.blackcoffer.com/coronavirus-impact-on-the-hospitality-industry-3/', 'https://insights.blackcoffer.com/estimating-the-impact-of-covid-19-on-the-world-of-work/', 'https://insights.blackcoffer.com/covid-19-how-have-countries-been-responding-2/', 'https://insights.blackcoffer.com/how-will-covid-19-affect-the-world-of-work-4/', 'https://insights.blackcoffer.com/lessons-from-the-past-some-key-learnings-relevant-to-the-coronavirus-crisis-2/', 'https://insights.blackcoffer.com/lessons-from-the-past-some-key-learnings-relevant-to-the-coronavirus-crisis-3/', 'https://insights.blackcoffer.com/coronavirus-impact-on-the-hospitality-industry-4/', 'https://insights.blackcoffer.com/why-scams-like-nirav-modi-happen-with-indian-banks/', 'https://insights.blackcoffer.com/impact-of-covid-19-on-the-global-economy/', 'https://insights.blackcoffer.com/impact-of-covid-19coronavirus-on-the-indian-economy-2/', 'https://insights.blackcoffer.com/impact-of-covid-19-on-the-global-economy-2/', 'https://insights.blackcoffer.com/impact-of-covid-19-coronavirus-on-the-indian-economy-3/', 'https://insights.blackcoffer.com/should-celebrities-be-allowed-to-join-politics/', 'https://insights.blackcoffer.com/how-prepared-is-india-to-tackle-a-possible-covid-19-outbreak/', 'https://insights.blackcoffer.com/how-will-covid-19-affect-the-world-of-work/', 'https://insights.blackcoffer.com/controversy-as-a-marketing-strategy/', 'https://insights.blackcoffer.com/coronavirus-impact-on-the-hospitality-industry/', 'https://insights.blackcoffer.com/coronavirus-impact-on-energy-markets/', 'https://insights.blackcoffer.com/what-are-the-key-policies-that-will-mitigate-the-impacts-of-covid-19-on-the-world-of-work/', 'https://insights.blackcoffer.com/marketing-drives-results-with-a-focus-on-problems/', 'https://insights.blackcoffer.com/continued-demand-for-sustainability/', 'https://insights.blackcoffer.com/coronavirus-disease-covid-19-effect-the-impact-and-role-of-mass-media-during-the-pandemic/', 'https://insights.blackcoffer.com/should-people-wear-fabric-gloves-seeking-evidence-regarding-the-differential-transfer-of-covid-19-or-coronaviruses-generally-between-surfaces/', 'https://insights.blackcoffer.com/why-is-there-a-severe-immunological-and-inflammatory-explosion-in-those-affected-by-sarms-covid-19/', 'https://insights.blackcoffer.com/what-do-you-think-is-the-lesson-or-lessons-to-be-learned-with-covid-19/', 'https://insights.blackcoffer.com/coronavirus-the-unexpected-challenge-for-the-european-union/', 'https://insights.blackcoffer.com/industrial-revolution-4-0-pros-and-cons/', 'https://insights.blackcoffer.com/impact-of-covid-19-coronavirus-on-the-indian-economy/', 'https://insights.blackcoffer.com/impact-of-covid-19-coronavirus-on-the-indian-economy-2/', 'https://insights.blackcoffer.com/impact-of-covid-19coronavirus-on-the-indian-economy/', 'https://insights.blackcoffer.com/impact-of-covid-19-coronavirus-on-the-global-economy/', 'https://insights.blackcoffer.com/ensuring-growth-through-insurance-technology/', 'https://insights.blackcoffer.com/blockchain-in-fintech/', 'https://insights.blackcoffer.com/blockchain-for-payments/', 'https://insights.blackcoffer.com/the-future-of-investing/', 'https://insights.blackcoffer.com/big-data-analytics-in-healthcare/', 'https://insights.blackcoffer.com/business-analytics-in-the-healthcare-industry/', 'https://insights.blackcoffer.com/challenges-and-opportunities-of-big-data-in-healthcare/']\n"
          ]
        }
      ]
    },
    {
      "cell_type": "code",
      "source": [
        "url_ids = dataset[\"URL_ID\"].tolist()"
      ],
      "metadata": {
        "id": "6XTXaeUVdm7O"
      },
      "execution_count": null,
      "outputs": []
    },
    {
      "cell_type": "code",
      "source": [
        "dataset"
      ],
      "metadata": {
        "colab": {
          "base_uri": "https://localhost:8080/",
          "height": 424
        },
        "id": "n-Vaufen9BRp",
        "outputId": "e1157114-cbab-4db3-8778-f2222c2da57d"
      },
      "execution_count": 58,
      "outputs": [
        {
          "output_type": "execute_result",
          "data": {
            "text/plain": [
              "     URL_ID                                                URL\n",
              "0        37  https://insights.blackcoffer.com/ai-in-healthc...\n",
              "1        38  https://insights.blackcoffer.com/what-if-the-c...\n",
              "2        39  https://insights.blackcoffer.com/what-jobs-wil...\n",
              "3        40  https://insights.blackcoffer.com/will-machine-...\n",
              "4        41  https://insights.blackcoffer.com/will-ai-repla...\n",
              "..      ...                                                ...\n",
              "109     146  https://insights.blackcoffer.com/blockchain-fo...\n",
              "110     147  https://insights.blackcoffer.com/the-future-of...\n",
              "111     148  https://insights.blackcoffer.com/big-data-anal...\n",
              "112     149  https://insights.blackcoffer.com/business-anal...\n",
              "113     150  https://insights.blackcoffer.com/challenges-an...\n",
              "\n",
              "[114 rows x 2 columns]"
            ],
            "text/html": [
              "\n",
              "  <div id=\"df-630de6f4-1ac3-4e2d-860b-6644dfbd983f\">\n",
              "    <div class=\"colab-df-container\">\n",
              "      <div>\n",
              "<style scoped>\n",
              "    .dataframe tbody tr th:only-of-type {\n",
              "        vertical-align: middle;\n",
              "    }\n",
              "\n",
              "    .dataframe tbody tr th {\n",
              "        vertical-align: top;\n",
              "    }\n",
              "\n",
              "    .dataframe thead th {\n",
              "        text-align: right;\n",
              "    }\n",
              "</style>\n",
              "<table border=\"1\" class=\"dataframe\">\n",
              "  <thead>\n",
              "    <tr style=\"text-align: right;\">\n",
              "      <th></th>\n",
              "      <th>URL_ID</th>\n",
              "      <th>URL</th>\n",
              "    </tr>\n",
              "  </thead>\n",
              "  <tbody>\n",
              "    <tr>\n",
              "      <th>0</th>\n",
              "      <td>37</td>\n",
              "      <td>https://insights.blackcoffer.com/ai-in-healthc...</td>\n",
              "    </tr>\n",
              "    <tr>\n",
              "      <th>1</th>\n",
              "      <td>38</td>\n",
              "      <td>https://insights.blackcoffer.com/what-if-the-c...</td>\n",
              "    </tr>\n",
              "    <tr>\n",
              "      <th>2</th>\n",
              "      <td>39</td>\n",
              "      <td>https://insights.blackcoffer.com/what-jobs-wil...</td>\n",
              "    </tr>\n",
              "    <tr>\n",
              "      <th>3</th>\n",
              "      <td>40</td>\n",
              "      <td>https://insights.blackcoffer.com/will-machine-...</td>\n",
              "    </tr>\n",
              "    <tr>\n",
              "      <th>4</th>\n",
              "      <td>41</td>\n",
              "      <td>https://insights.blackcoffer.com/will-ai-repla...</td>\n",
              "    </tr>\n",
              "    <tr>\n",
              "      <th>...</th>\n",
              "      <td>...</td>\n",
              "      <td>...</td>\n",
              "    </tr>\n",
              "    <tr>\n",
              "      <th>109</th>\n",
              "      <td>146</td>\n",
              "      <td>https://insights.blackcoffer.com/blockchain-fo...</td>\n",
              "    </tr>\n",
              "    <tr>\n",
              "      <th>110</th>\n",
              "      <td>147</td>\n",
              "      <td>https://insights.blackcoffer.com/the-future-of...</td>\n",
              "    </tr>\n",
              "    <tr>\n",
              "      <th>111</th>\n",
              "      <td>148</td>\n",
              "      <td>https://insights.blackcoffer.com/big-data-anal...</td>\n",
              "    </tr>\n",
              "    <tr>\n",
              "      <th>112</th>\n",
              "      <td>149</td>\n",
              "      <td>https://insights.blackcoffer.com/business-anal...</td>\n",
              "    </tr>\n",
              "    <tr>\n",
              "      <th>113</th>\n",
              "      <td>150</td>\n",
              "      <td>https://insights.blackcoffer.com/challenges-an...</td>\n",
              "    </tr>\n",
              "  </tbody>\n",
              "</table>\n",
              "<p>114 rows × 2 columns</p>\n",
              "</div>\n",
              "      <button class=\"colab-df-convert\" onclick=\"convertToInteractive('df-630de6f4-1ac3-4e2d-860b-6644dfbd983f')\"\n",
              "              title=\"Convert this dataframe to an interactive table.\"\n",
              "              style=\"display:none;\">\n",
              "        \n",
              "  <svg xmlns=\"http://www.w3.org/2000/svg\" height=\"24px\"viewBox=\"0 0 24 24\"\n",
              "       width=\"24px\">\n",
              "    <path d=\"M0 0h24v24H0V0z\" fill=\"none\"/>\n",
              "    <path d=\"M18.56 5.44l.94 2.06.94-2.06 2.06-.94-2.06-.94-.94-2.06-.94 2.06-2.06.94zm-11 1L8.5 8.5l.94-2.06 2.06-.94-2.06-.94L8.5 2.5l-.94 2.06-2.06.94zm10 10l.94 2.06.94-2.06 2.06-.94-2.06-.94-.94-2.06-.94 2.06-2.06.94z\"/><path d=\"M17.41 7.96l-1.37-1.37c-.4-.4-.92-.59-1.43-.59-.52 0-1.04.2-1.43.59L10.3 9.45l-7.72 7.72c-.78.78-.78 2.05 0 2.83L4 21.41c.39.39.9.59 1.41.59.51 0 1.02-.2 1.41-.59l7.78-7.78 2.81-2.81c.8-.78.8-2.07 0-2.86zM5.41 20L4 18.59l7.72-7.72 1.47 1.35L5.41 20z\"/>\n",
              "  </svg>\n",
              "      </button>\n",
              "      \n",
              "  <style>\n",
              "    .colab-df-container {\n",
              "      display:flex;\n",
              "      flex-wrap:wrap;\n",
              "      gap: 12px;\n",
              "    }\n",
              "\n",
              "    .colab-df-convert {\n",
              "      background-color: #E8F0FE;\n",
              "      border: none;\n",
              "      border-radius: 50%;\n",
              "      cursor: pointer;\n",
              "      display: none;\n",
              "      fill: #1967D2;\n",
              "      height: 32px;\n",
              "      padding: 0 0 0 0;\n",
              "      width: 32px;\n",
              "    }\n",
              "\n",
              "    .colab-df-convert:hover {\n",
              "      background-color: #E2EBFA;\n",
              "      box-shadow: 0px 1px 2px rgba(60, 64, 67, 0.3), 0px 1px 3px 1px rgba(60, 64, 67, 0.15);\n",
              "      fill: #174EA6;\n",
              "    }\n",
              "\n",
              "    [theme=dark] .colab-df-convert {\n",
              "      background-color: #3B4455;\n",
              "      fill: #D2E3FC;\n",
              "    }\n",
              "\n",
              "    [theme=dark] .colab-df-convert:hover {\n",
              "      background-color: #434B5C;\n",
              "      box-shadow: 0px 1px 3px 1px rgba(0, 0, 0, 0.15);\n",
              "      filter: drop-shadow(0px 1px 2px rgba(0, 0, 0, 0.3));\n",
              "      fill: #FFFFFF;\n",
              "    }\n",
              "  </style>\n",
              "\n",
              "      <script>\n",
              "        const buttonEl =\n",
              "          document.querySelector('#df-630de6f4-1ac3-4e2d-860b-6644dfbd983f button.colab-df-convert');\n",
              "        buttonEl.style.display =\n",
              "          google.colab.kernel.accessAllowed ? 'block' : 'none';\n",
              "\n",
              "        async function convertToInteractive(key) {\n",
              "          const element = document.querySelector('#df-630de6f4-1ac3-4e2d-860b-6644dfbd983f');\n",
              "          const dataTable =\n",
              "            await google.colab.kernel.invokeFunction('convertToInteractive',\n",
              "                                                     [key], {});\n",
              "          if (!dataTable) return;\n",
              "\n",
              "          const docLinkHtml = 'Like what you see? Visit the ' +\n",
              "            '<a target=\"_blank\" href=https://colab.research.google.com/notebooks/data_table.ipynb>data table notebook</a>'\n",
              "            + ' to learn more about interactive tables.';\n",
              "          element.innerHTML = '';\n",
              "          dataTable['output_type'] = 'display_data';\n",
              "          await google.colab.output.renderOutput(dataTable, element);\n",
              "          const docLink = document.createElement('div');\n",
              "          docLink.innerHTML = docLinkHtml;\n",
              "          element.appendChild(docLink);\n",
              "        }\n",
              "      </script>\n",
              "    </div>\n",
              "  </div>\n",
              "  "
            ]
          },
          "metadata": {},
          "execution_count": 58
        }
      ]
    },
    {
      "cell_type": "markdown",
      "source": [
        "## Scarpping data"
      ],
      "metadata": {
        "id": "yyxyKt3Ud08q"
      }
    },
    {
      "cell_type": "code",
      "execution_count": 60,
      "metadata": {
        "id": "Kxs3Of4pGtm6"
      },
      "outputs": [],
      "source": [
        "# Web scraping, pickle imports\n",
        "import requests\n",
        "from bs4 import BeautifulSoup\n",
        "import pickle"
      ]
    },
    {
      "cell_type": "code",
      "source": [
        "# Scrapes transcript data\n",
        "def url_to_transcript(url):\n",
        "    try:\n",
        "      page = requests.get(url).text\n",
        "      soup = BeautifulSoup(page, \"html.parser\")\n",
        "      doc = [p.text for p in soup.find(class_=\"td-post-content\").find_all('p')]\n",
        "      header = soup.find(\"h1\").text\n",
        "      doc.insert(0,f\"{header}\")\n",
        "      print(url)\n",
        "      return doc\n",
        "    except :\n",
        "      return \"NA\""
      ],
      "metadata": {
        "id": "7fnehygBt7Mf"
      },
      "execution_count": 12,
      "outputs": []
    },
    {
      "cell_type": "code",
      "source": [
        "# URLs of transcripts in scope\n",
        "urls = mylist\n"
      ],
      "metadata": {
        "id": "U7AhgVJoc2vt"
      },
      "execution_count": 61,
      "outputs": []
    },
    {
      "cell_type": "code",
      "source": [
        "transcripts = [url_to_transcript(u) for u in urls]"
      ],
      "metadata": {
        "colab": {
          "base_uri": "https://localhost:8080/"
        },
        "id": "e_lpEuo_J5Ra",
        "outputId": "b383720c-434e-48e7-a980-5afb2383e5e0"
      },
      "execution_count": 13,
      "outputs": [
        {
          "output_type": "stream",
          "name": "stdout",
          "text": [
            "https://insights.blackcoffer.com/ai-in-healthcare-to-improve-patient-outcomes/\n",
            "https://insights.blackcoffer.com/what-if-the-creation-is-taking-over-the-creator/\n",
            "https://insights.blackcoffer.com/what-jobs-will-robots-take-from-humans-in-the-future/\n",
            "https://insights.blackcoffer.com/will-machine-replace-the-human-in-the-future-of-work/\n",
            "https://insights.blackcoffer.com/will-ai-replace-us-or-work-with-us/\n",
            "https://insights.blackcoffer.com/man-and-machines-together-machines-are-more-diligent-than-humans-blackcoffe/\n",
            "https://insights.blackcoffer.com/in-future-or-in-upcoming-years-humans-and-machines-are-going-to-work-together-in-every-field-of-work/\n",
            "https://insights.blackcoffer.com/how-machine-learning-will-affect-your-business/\n",
            "https://insights.blackcoffer.com/deep-learning-impact-on-areas-of-e-learning/\n",
            "https://insights.blackcoffer.com/how-to-protect-future-data-and-its-privacy-blackcoffer/\n",
            "https://insights.blackcoffer.com/how-machines-ai-automations-and-robo-human-are-effective-in-finance-and-banking/\n",
            "https://insights.blackcoffer.com/ai-human-robotics-machine-future-planet-blackcoffer-thinking-jobs-workplace/\n",
            "https://insights.blackcoffer.com/how-ai-will-change-the-world-blackcoffer/\n",
            "https://insights.blackcoffer.com/future-of-work-how-ai-has-entered-the-workplace/\n",
            "https://insights.blackcoffer.com/ai-tool-alexa-google-assistant-finance-banking-tool-future/\n",
            "https://insights.blackcoffer.com/ai-healthcare-revolution-ml-technology-algorithm-google-analytics-industrialrevolution/\n",
            "https://insights.blackcoffer.com/all-you-need-to-know-about-online-marketing/\n",
            "https://insights.blackcoffer.com/evolution-of-advertising-industry/\n",
            "https://insights.blackcoffer.com/how-data-analytics-can-help-your-business-respond-to-the-impact-of-covid-19/\n",
            "https://insights.blackcoffer.com/environmental-impact-of-the-covid-19-pandemic-lesson-for-the-future/\n",
            "https://insights.blackcoffer.com/how-data-analytics-and-ai-are-used-to-halt-the-covid-19-pandemic/\n",
            "https://insights.blackcoffer.com/difference-between-artificial-intelligence-machine-learning-statistics-and-data-mining/\n",
            "https://insights.blackcoffer.com/how-python-became-the-first-choice-for-data-science/\n",
            "https://insights.blackcoffer.com/how-google-fit-measure-heart-and-respiratory-rates-using-a-phone/\n",
            "https://insights.blackcoffer.com/what-is-the-future-of-mobile-apps/\n",
            "https://insights.blackcoffer.com/impact-of-ai-in-health-and-medicine/\n",
            "https://insights.blackcoffer.com/telemedicine-what-patients-like-and-dislike-about-it/\n",
            "https://insights.blackcoffer.com/how-we-forecast-future-technologies/\n",
            "https://insights.blackcoffer.com/can-robots-tackle-late-life-loneliness/\n",
            "https://insights.blackcoffer.com/embedding-care-robots-into-society-socio-technical-considerations/\n",
            "https://insights.blackcoffer.com/management-challenges-for-future-digitalization-of-healthcare-services/\n",
            "https://insights.blackcoffer.com/are-we-any-closer-to-preventing-a-nuclear-holocaust/\n",
            "https://insights.blackcoffer.com/will-technology-eliminate-the-need-for-animal-testing-in-drug-development/\n",
            "https://insights.blackcoffer.com/will-we-ever-understand-the-nature-of-consciousness/\n",
            "https://insights.blackcoffer.com/will-we-ever-colonize-outer-space/\n",
            "https://insights.blackcoffer.com/what-is-the-chance-homo-sapiens-will-survive-for-the-next-500-years/\n",
            "https://insights.blackcoffer.com/why-does-your-business-need-a-chatbot/\n",
            "https://insights.blackcoffer.com/how-you-lead-a-project-or-a-team-without-any-technical-expertise/\n",
            "https://insights.blackcoffer.com/can-you-be-great-leader-without-technical-expertise/\n",
            "https://insights.blackcoffer.com/how-does-artificial-intelligence-affect-the-environment/\n",
            "https://insights.blackcoffer.com/how-to-overcome-your-fear-of-making-mistakes-2/\n",
            "https://insights.blackcoffer.com/is-perfection-the-greatest-enemy-of-productivity/\n",
            "https://insights.blackcoffer.com/global-financial-crisis-2008-causes-effects-and-its-solution/\n",
            "https://insights.blackcoffer.com/gender-diversity-and-equality-in-the-tech-industry/\n",
            "https://insights.blackcoffer.com/how-to-overcome-your-fear-of-making-mistakes/\n",
            "https://insights.blackcoffer.com/how-small-business-can-survive-the-coronavirus-crisis/\n",
            "https://insights.blackcoffer.com/impacts-of-covid-19-on-vegetable-vendors-and-food-stalls/\n",
            "https://insights.blackcoffer.com/impacts-of-covid-19-on-vegetable-vendors/\n",
            "https://insights.blackcoffer.com/impact-of-covid-19-pandemic-on-tourism-aviation-industries/\n",
            "https://insights.blackcoffer.com/impact-of-covid-19-pandemic-on-sports-events-around-the-world/\n",
            "https://insights.blackcoffer.com/changing-landscape-and-emerging-trends-in-the-indian-it-ites-industry/\n",
            "https://insights.blackcoffer.com/online-gaming-adolescent-online-gaming-effects-demotivated-depression-musculoskeletal-and-psychosomatic-symptoms/\n",
            "https://insights.blackcoffer.com/human-rights-outlook/\n",
            "https://insights.blackcoffer.com/how-voice-search-makes-your-business-a-successful-business/\n",
            "https://insights.blackcoffer.com/how-the-covid-19-crisis-is-redefining-jobs-and-services/\n",
            "https://insights.blackcoffer.com/how-to-increase-social-media-engagement-for-marketers/\n",
            "https://insights.blackcoffer.com/impacts-of-covid-19-on-streets-sides-food-stalls/\n",
            "https://insights.blackcoffer.com/coronavirus-impact-on-energy-markets-2/\n",
            "https://insights.blackcoffer.com/coronavirus-impact-on-the-hospitality-industry-5/\n",
            "https://insights.blackcoffer.com/lessons-from-the-past-some-key-learnings-relevant-to-the-coronavirus-crisis-4/\n",
            "https://insights.blackcoffer.com/estimating-the-impact-of-covid-19-on-the-world-of-work-2/\n",
            "https://insights.blackcoffer.com/estimating-the-impact-of-covid-19-on-the-world-of-work-3/\n",
            "https://insights.blackcoffer.com/travel-and-tourism-outlook/\n",
            "https://insights.blackcoffer.com/gaming-disorder-and-effects-of-gaming-on-health/\n",
            "https://insights.blackcoffer.com/what-is-the-repercussion-of-the-environment-due-to-the-covid-19-pandemic-situation/\n",
            "https://insights.blackcoffer.com/what-is-the-repercussion-of-the-environment-due-to-the-covid-19-pandemic-situation-2/\n",
            "https://insights.blackcoffer.com/impact-of-covid-19-pandemic-on-office-space-and-co-working-industries/\n",
            "https://insights.blackcoffer.com/contribution-of-handicrafts-visual-arts-literature-in-the-indian-economy/\n",
            "https://insights.blackcoffer.com/how-covid-19-is-impacting-payment-preferences/\n",
            "https://insights.blackcoffer.com/how-will-covid-19-affect-the-world-of-work-2/\n",
            "https://insights.blackcoffer.com/lessons-from-the-past-some-key-learnings-relevant-to-the-coronavirus-crisis/\n",
            "https://insights.blackcoffer.com/covid-19-how-have-countries-been-responding/\n",
            "https://insights.blackcoffer.com/coronavirus-impact-on-the-hospitality-industry-2/\n",
            "https://insights.blackcoffer.com/how-will-covid-19-affect-the-world-of-work-3/\n",
            "https://insights.blackcoffer.com/coronavirus-impact-on-the-hospitality-industry-3/\n",
            "https://insights.blackcoffer.com/estimating-the-impact-of-covid-19-on-the-world-of-work/\n",
            "https://insights.blackcoffer.com/covid-19-how-have-countries-been-responding-2/\n",
            "https://insights.blackcoffer.com/how-will-covid-19-affect-the-world-of-work-4/\n",
            "https://insights.blackcoffer.com/lessons-from-the-past-some-key-learnings-relevant-to-the-coronavirus-crisis-2/\n",
            "https://insights.blackcoffer.com/lessons-from-the-past-some-key-learnings-relevant-to-the-coronavirus-crisis-3/\n",
            "https://insights.blackcoffer.com/coronavirus-impact-on-the-hospitality-industry-4/\n",
            "https://insights.blackcoffer.com/why-scams-like-nirav-modi-happen-with-indian-banks/\n",
            "https://insights.blackcoffer.com/impact-of-covid-19-on-the-global-economy/\n",
            "https://insights.blackcoffer.com/impact-of-covid-19coronavirus-on-the-indian-economy-2/\n",
            "https://insights.blackcoffer.com/impact-of-covid-19-on-the-global-economy-2/\n",
            "https://insights.blackcoffer.com/impact-of-covid-19-coronavirus-on-the-indian-economy-3/\n",
            "https://insights.blackcoffer.com/should-celebrities-be-allowed-to-join-politics/\n",
            "https://insights.blackcoffer.com/how-prepared-is-india-to-tackle-a-possible-covid-19-outbreak/\n",
            "https://insights.blackcoffer.com/how-will-covid-19-affect-the-world-of-work/\n",
            "https://insights.blackcoffer.com/controversy-as-a-marketing-strategy/\n",
            "https://insights.blackcoffer.com/coronavirus-impact-on-the-hospitality-industry/\n",
            "https://insights.blackcoffer.com/coronavirus-impact-on-energy-markets/\n",
            "https://insights.blackcoffer.com/what-are-the-key-policies-that-will-mitigate-the-impacts-of-covid-19-on-the-world-of-work/\n",
            "https://insights.blackcoffer.com/marketing-drives-results-with-a-focus-on-problems/\n",
            "https://insights.blackcoffer.com/continued-demand-for-sustainability/\n",
            "https://insights.blackcoffer.com/coronavirus-disease-covid-19-effect-the-impact-and-role-of-mass-media-during-the-pandemic/\n",
            "https://insights.blackcoffer.com/should-people-wear-fabric-gloves-seeking-evidence-regarding-the-differential-transfer-of-covid-19-or-coronaviruses-generally-between-surfaces/\n",
            "https://insights.blackcoffer.com/why-is-there-a-severe-immunological-and-inflammatory-explosion-in-those-affected-by-sarms-covid-19/\n",
            "https://insights.blackcoffer.com/what-do-you-think-is-the-lesson-or-lessons-to-be-learned-with-covid-19/\n",
            "https://insights.blackcoffer.com/coronavirus-the-unexpected-challenge-for-the-european-union/\n",
            "https://insights.blackcoffer.com/industrial-revolution-4-0-pros-and-cons/\n",
            "https://insights.blackcoffer.com/impact-of-covid-19-coronavirus-on-the-indian-economy/\n",
            "https://insights.blackcoffer.com/impact-of-covid-19-coronavirus-on-the-indian-economy-2/\n",
            "https://insights.blackcoffer.com/impact-of-covid-19coronavirus-on-the-indian-economy/\n",
            "https://insights.blackcoffer.com/impact-of-covid-19-coronavirus-on-the-global-economy/\n",
            "https://insights.blackcoffer.com/blockchain-in-fintech/\n",
            "https://insights.blackcoffer.com/blockchain-for-payments/\n",
            "https://insights.blackcoffer.com/the-future-of-investing/\n",
            "https://insights.blackcoffer.com/big-data-analytics-in-healthcare/\n",
            "https://insights.blackcoffer.com/business-analytics-in-the-healthcare-industry/\n",
            "https://insights.blackcoffer.com/challenges-and-opportunities-of-big-data-in-healthcare/\n"
          ]
        }
      ]
    },
    {
      "cell_type": "code",
      "source": [
        "!mkdir articles"
      ],
      "metadata": {
        "id": "5nx1fdMtnfxf"
      },
      "execution_count": 81,
      "outputs": []
    },
    {
      "cell_type": "code",
      "source": [
        "!ls"
      ],
      "metadata": {
        "colab": {
          "base_uri": "https://localhost:8080/"
        },
        "id": "I7f8poa3ni3L",
        "outputId": "f9a1d176-77f6-44a1-88e0-119e24ece8a7"
      },
      "execution_count": 82,
      "outputs": [
        {
          "output_type": "stream",
          "name": "stdout",
          "text": [
            " articles\t    Objective.docx\t\t 'Text Analysis.docx'\n",
            " Input.xlsx\t   'Output Data Structure.xlsx'\n",
            " MasterDictionary   StopWords\n"
          ]
        }
      ]
    },
    {
      "cell_type": "markdown",
      "source": [
        "## Store data into pickel file and use that for future retrieval"
      ],
      "metadata": {
        "id": "ySPGA3sreBL7"
      }
    },
    {
      "cell_type": "code",
      "source": [
        "for i, c in enumerate(url_ids):\n",
        "    with open(\"articles/\" + str(c) + \".txt\", \"wb\") as file:\n",
        "        pickle.dump(transcripts[i], file)"
      ],
      "metadata": {
        "id": "-J53XqSlM3RE"
      },
      "execution_count": 14,
      "outputs": []
    },
    {
      "cell_type": "code",
      "source": [
        "# Load pickled files\n",
        "data = {}\n",
        "for i, c in enumerate(url_ids):\n",
        "    with open(\"articles/\" + str(c) + \".txt\", \"rb\") as file:\n",
        "        data[c] = pickle.load(file)"
      ],
      "metadata": {
        "id": "AwE39FQpOJoV"
      },
      "execution_count": 62,
      "outputs": []
    },
    {
      "cell_type": "markdown",
      "source": [
        "## Filter out all the 'NA' values"
      ],
      "metadata": {
        "id": "vrvyoSa7ebO8"
      }
    },
    {
      "cell_type": "code",
      "source": [
        "data.keys()"
      ],
      "metadata": {
        "colab": {
          "base_uri": "https://localhost:8080/"
        },
        "id": "t8ynx9eMObmS",
        "outputId": "db1e424b-0ca5-4446-ed35-fa7b3dd24c63"
      },
      "execution_count": 13,
      "outputs": [
        {
          "output_type": "execute_result",
          "data": {
            "text/plain": [
              "dict_keys([37, 38, 39, 40, 41, 42, 43, 44, 45, 46, 47, 48, 49, 50, 51, 52, 53, 54, 55, 56, 57, 58, 59, 60, 61, 62, 63, 64, 65, 66, 67, 68, 69, 70, 71, 72, 73, 74, 75, 76, 77, 78, 79, 80, 81, 82, 83, 84, 85, 86, 87, 88, 89, 90, 91, 92, 93, 94, 95, 96, 97, 98, 99, 100, 101, 102, 103, 104, 105, 106, 107, 108, 109, 110, 111, 112, 113, 114, 115, 116, 117, 118, 119, 120, 121, 122, 123, 124, 125, 126, 127, 128, 129, 130, 131, 132, 133, 134, 135, 136, 137, 138, 139, 140, 141, 142, 143, 144, 145, 146, 147, 148, 149, 150])"
            ]
          },
          "metadata": {},
          "execution_count": 13
        }
      ]
    },
    {
      "cell_type": "code",
      "source": [
        "data[44]"
      ],
      "metadata": {
        "colab": {
          "base_uri": "https://localhost:8080/",
          "height": 35
        },
        "id": "S1b5RX4SVx86",
        "outputId": "5f077eb9-0814-4fbd-d07e-2e70fb275a62"
      },
      "execution_count": 91,
      "outputs": [
        {
          "output_type": "execute_result",
          "data": {
            "text/plain": [
              "'NA'"
            ],
            "application/vnd.google.colaboratory.intrinsic+json": {
              "type": "string"
            }
          },
          "metadata": {},
          "execution_count": 91
        }
      ]
    },
    {
      "cell_type": "code",
      "source": [
        "def filterOutEmpty(kval):\n",
        "  filterOut = 'NA'\n",
        "  key, value = kval\n",
        "  if(value==filterOut):\n",
        "    return False\n",
        "  else:\n",
        "    return True\n"
      ],
      "metadata": {
        "id": "eniI2LvoOeuy"
      },
      "execution_count": 63,
      "outputs": []
    },
    {
      "cell_type": "code",
      "source": [
        "mainData = dict(filter(filterOutEmpty, data.items()))"
      ],
      "metadata": {
        "id": "OyuQioZARBY-"
      },
      "execution_count": 64,
      "outputs": []
    },
    {
      "cell_type": "code",
      "source": [
        "mainData.keys()"
      ],
      "metadata": {
        "colab": {
          "base_uri": "https://localhost:8080/"
        },
        "id": "9M3xqoN0RDZQ",
        "outputId": "4fc00f68-1ff0-4c80-c218-a3cb4cf72f7f"
      },
      "execution_count": 14,
      "outputs": [
        {
          "output_type": "execute_result",
          "data": {
            "text/plain": [
              "dict_keys([37, 38, 39, 40, 41, 42, 43, 45, 46, 47, 48, 49, 50, 51, 52, 53, 54, 55, 56, 58, 59, 60, 61, 62, 63, 64, 65, 66, 67, 68, 69, 70, 71, 72, 73, 74, 75, 76, 77, 78, 79, 80, 81, 82, 83, 84, 85, 86, 87, 88, 89, 90, 91, 92, 93, 94, 95, 96, 97, 98, 99, 100, 101, 102, 103, 104, 105, 106, 107, 108, 109, 110, 111, 112, 113, 114, 115, 116, 117, 118, 119, 120, 121, 122, 123, 124, 125, 126, 127, 128, 129, 130, 131, 132, 133, 134, 135, 136, 137, 138, 139, 140, 141, 142, 143, 145, 146, 147, 148, 149, 150])"
            ]
          },
          "metadata": {},
          "execution_count": 14
        }
      ]
    },
    {
      "cell_type": "code",
      "source": [
        "mainData[37]"
      ],
      "metadata": {
        "colab": {
          "base_uri": "https://localhost:8080/"
        },
        "id": "N6NfKy3xugGk",
        "outputId": "50a838cb-bc76-4a2e-aec7-c7871dcabb92"
      },
      "execution_count": 89,
      "outputs": [
        {
          "output_type": "execute_result",
          "data": {
            "text/plain": [
              "['AI in healthcare to Improve Patient Outcomes',\n",
              " 'Introduction',\n",
              " '“If anything kills over 10 million people in the next few decades, it will be a highly infectious virus rather than a war. Not missiles but microbes.” Bill Gates’s remarks at a TED conference in 2014, right after the world had avoided the Ebola outbreak. When the new, unprecedented, invisible virus hit us, it met an overwhelmed and unprepared healthcare system and oblivious population. This public health emergency demonstrated our lack of scientific consideration and underlined the alarming need for robust innovations in our health and medical facilities. For the past few years, artificial intelligence has proven to be of tangible potential in the healthcare sectors, clinical practices, translational medical and biomedical research.',\n",
              " 'After the first case was detected in China on December 31st 2019, it was an AI program developed by BlueDot that alerted the world about the pandemic. It was quick to realise AI’s ability to analyse large chunks of data could help in detecting patterns and identifying and tracking the possible carriers of the virus.',\n",
              " 'Many tracing apps use AI to keep tabs on the people who have been infected and prevent the risk of cross-infection by using AI algorithms that can track patterns and extract some features to classify or categorise them.',\n",
              " 'So how does AI do that?',\n",
              " 'IBM Watson, a sophisticated AI that works on cloud computing and natural language processing, has prominently contributed to the healthcare sector on a global level. Being a conversational AI, since 2013, Watson has helped in recommending treatments to patients suffering from cancer to ensure that they get the best treatment at optimum costs.',\n",
              " 'Researchers at Google Inc. showed that an AI system can be trained on thousands of images to achieve physician-level sensitivity.',\n",
              " 'By identifying the molecular patterns associated with disease status and its subtypes, gene expression, and protein abundance levels, machine learning methods can detect fatal diseases like cancer at an early stage. Machine Learning (ML) techniques focus mainly on analyzing structured data, which can further help in clustering patients’ traits and infer the probability of disease outcomes. Since patient traits mainly include masses of data relating to age, gender, disease history, disease-specific data like diagnostic imaging and gene expressions, etc, ML can extract features from these data inputs by constructing data analytical algorithms.',\n",
              " 'ML algorithms are either supervised or unsupervised. Unsupervised learning helps in extracting features and clustering similar features together that further leads to early detection of diseases. Clustering and principal component analysis enable grouping or clustering of similar traits together that are further used to maximize or minimize the similarity between the patients within or between the clusters. Since patient traits are recorded in multiple dimensions, such as genes, principal component analysis(PCA) creates the apparatus to reduce these dimensions which humans could have not done alone.',\n",
              " 'Supervised learning considers the outcomes of the subjects together with the traits, and further correlates the inputs with the outputs to predict the probability of getting a particular clinical event, expected value of a disease level or expected survival time, or risk of Down’s syndrome.',\n",
              " 'Biomarker panels that are mostly used to detect ovarian cancer, have outperformed the conventional statistical methods due to machine learning. In addition to this, the use of EHRs and Bayesian networks, which are a part of supervised machine learning algorithms, can predict clinical outcomes and mortality respectively.',\n",
              " 'Unstructured data such as clinical notes and texts are converted into machine-readable structured data with the help of natural language processing(NLP). NLP works with two components: text processing and classification. Text processing helps in identifying a series of disease-relevant keywords in clinical notes and then through classification are further categorized into normal and abnormal cases. Chest screening through ML and NLP has helped find abnormalities in the lungs and provide treatment to covid patients. Healthcare organizations use NLP-based chatbots to increase interactions with patients, keeping their mental health and wellness in check.',\n",
              " 'Deep learning is a modern extension of the classical neural network techniques which helps explore more complex non-linear patterns in data, using algorithms like convolution neural network, recurrent neural network, deep belief network, and deep neural network which enables more accurate clinical prediction. When it comes to genome interpretation, deep neural networks surpass the conventional methods of logistics regression and support vector machines.',\n",
              " 'Sepsis Watch is an AI system trained in deep learning algorithms that holds the capability to analyze over 32 million data points to create a patient’s risk score and identify the early stages of sepsis.',\n",
              " 'Another method known as the Learning-based Optimization of the Under Sampling Pattern( LOUPE) is based on integrating full resolution MRI scans with the convolutional neural network algorithm, which helps in creating more accurate reconstructions.',\n",
              " 'Robotic surgery is widely considered in most delicate surgeries like gynaecology and prostate surgery. Even after striking the right balance between human decisions and AI precision, robotic surgery reduces surgeon efficiency as they have to be manually operated through a console. Thus, autonomous robotic surgery is on the rise with inventions such as robotic silicon fingers that mimic the sense of touch that surgeons need to identify organs, cut tissues, etc., or robotic catheters that can navigate whether it is touching blood, tissue, or valve.',\n",
              " 'Researchers at Children’s National Hospital, Washington have already developed an AI called Smart Tissue Autonomous Robot (STAR), which performs a colon anastomosis on its own with the help of an ML-powered suturing tool, that automatically detects the patient’s breathing pattern to apply suture at the correct point.',\n",
              " 'Cloud computing in healthcare has helped in retrieving and sharing medical records safely with a reduction in maintenance costs. Through this technology doctors and various healthcare workers have access to detailed patient data that helps in speeding up analysis ultimately leading to better care in the form of more accurate information, medications, and therapies.',\n",
              " 'How can It help in Biomedical research?',\n",
              " 'Since AI can analyze literature beyond readability, it can be used to concise biomedical research. With the help of ML algorithms and NLP, AI can accelerate screening and indexing of biomedical research, by ranking the literature of interest which allows researchers to formulate and test scientific hypotheses far more precisely and quickly. Taking it to the next level, AI systems like the computational modelling assistant (CMA) helps researchers to construct simulation models from the concepts they have in mind. Such innovations have majorly contributed to topics such as tumour suppressor mechanisms and protein-protein interaction information extraction.',\n",
              " 'AI as precision medicine',\n",
              " 'Since precision medicine focuses on healthcare interventions to individuals or groups of patients based on their profile, the various AI devices pave the way to practice it more efficiently. With the help of ML, complex algorithms like large datasets can be used to predict and create an optimal treatment strategy.',\n",
              " 'Deep learning and neural networks can be used to process data in healthcare apps and keep a close watch on the patient’s emotional state, food intake, or health monitoring.\\xa0',\n",
              " '“Omics” refers to the collective technologies that help in exploring the roles, relationships of various branches ending with the suffix “omics” such as genomics, proteomics, etc. Omics-based tests based on machine learning algorithms help find correlations and predict treatment responses, ultimately creating personalized treatments for individual patients.\\xa0',\n",
              " 'How it helps in psychology and neuro patients',\n",
              " 'For psychologists studying creativity,\\xa0 AI is promising new classes of experiments that are developing data structures and programs and exploring novel theories on a new horizon. Studies show that \\xa0AI can conduct therapy sessions, e-therapy sessions, and assessments autonomously, also assisting human practitioners before, during, or after sessions. The Detection and Computational Analysis of Psychological Signal project uses ML, computer vision, and NLP to analyze language, physical gestures, and social signals to identify cues for human distress. This ground-breaking technology assesses soldiers returning from combat and recognizes those who require further mental health support. In the future, it will combine data captured during face-to-face interviews with information on sleeping, eating, and online behaviours for a complete patient view.',\n",
              " 'Stroke identification',\n",
              " 'Stroke is another frequently occurring disease that affects more than 500 million people worldwide. Thrombus,\\xa0 in the vessel cerebral infarction is the major (about 85%) cause of stroke occurrence. In recent years, AI techniques have been used in numerous stroke-related studies as early detection and timely treatment along with efficient outcome prediction can help solve the problem. With AI at our disposal, large amounts of data with rich information, more complications and real-life clinical questions can be addressed in this arena. Currently, two ML algorithms- genetic fuzzy finite state machine and PCA were implemented to build a model building solution. These include a human activity recognition stage and a stroke onset detection stage. An alert stroke message is activated as soon as a movement significantly different from the normal pattern is recorded. ML methods have been applied to neuroimaging data to assist disease evaluation and predicting stroke treatment for the diagnosis.',\n",
              " 'Patient Monitoring',\n",
              " 'Today, the market for AI-based patient monitoring is impressive and monetarily enticing. It is evolving with artificial sensors, smart technologies and explores everything from brain-computer interfaces to nanorobotics. Companies with their smart-watches have engaged people to perform remote monitoring even when they are not “patients”. An obvious place to start is with wearable and embedded sensors, glucose monitors, pulse monitors, oximeters, and ECG monitors. With patient monitoring becoming crucial, AI finds numerous applications in chronic conditions, intensive care units, operating rooms, emergency rooms, and cardiac wards where timeless clinical decision-making can be measured in seconds. More advances have started to gain traction like smart prosthetics and implants. These play an impeccable role in patient management post-surgery or rehabilitation. Demographics, laboratory results and vital signs can also be used to predict cardiac arrest, transfer into the intensive care unit, or even death. In addition, an interpretable machine-learning model can assist anesthesiologists in predicting hypoxaemia events during surgery. This suggests that with deep-learning algorithms, raw patient-monitoring data could be better used to avoid information overload and alert overload while enabling more accurate clinical prediction and timely decision-making.',\n",
              " '\\xa0Conclusion',\n",
              " 'Considering the vast range of tasks that an AI can do, it is evident that it holds deep potential in improving patient outcomes to skyrocketing levels. Using sophisticated algorithms AI can bring a revolution in the healthcare sector. Even after facing challenges like whether the technology will be able to deliver the promises, ethical measures, training physicians to use it, standard regulations etc, the role of AI in transforming the clinical practices cannot be ignored. The biggest challenge is the integration of AI in daily practice. All of these can be overcome and within that period the technologies will mature making the system far more enhanced and effective.']"
            ]
          },
          "metadata": {},
          "execution_count": 89
        }
      ]
    },
    {
      "cell_type": "markdown",
      "source": [
        "## Cleaning the text data"
      ],
      "metadata": {
        "id": "NYZQaZo7elEt"
      }
    },
    {
      "cell_type": "code",
      "source": [
        "import nltk\n",
        "from nltk.tokenize import sent_tokenize"
      ],
      "metadata": {
        "id": "8HQ0VRNbZsyl"
      },
      "execution_count": 65,
      "outputs": []
    },
    {
      "cell_type": "code",
      "source": [
        "nltk.download('punkt')"
      ],
      "metadata": {
        "colab": {
          "base_uri": "https://localhost:8080/"
        },
        "id": "pIAKveoQZwgi",
        "outputId": "7d88f179-6a60-42ad-81e9-761281ff7d85"
      },
      "execution_count": 66,
      "outputs": [
        {
          "output_type": "stream",
          "name": "stderr",
          "text": [
            "[nltk_data] Downloading package punkt to /root/nltk_data...\n",
            "[nltk_data]   Unzipping tokenizers/punkt.zip.\n"
          ]
        },
        {
          "output_type": "execute_result",
          "data": {
            "text/plain": [
              "True"
            ]
          },
          "metadata": {},
          "execution_count": 66
        }
      ]
    },
    {
      "cell_type": "code",
      "source": [],
      "metadata": {
        "id": "z_UhiYIUetPE"
      },
      "execution_count": null,
      "outputs": []
    },
    {
      "cell_type": "markdown",
      "source": [
        "### Tokenize sentences (as we will remove punctuations later on)"
      ],
      "metadata": {
        "id": "DnBXSndAet-r"
      }
    },
    {
      "cell_type": "code",
      "source": [
        "for key, value_list in mainData.items():\n",
        "    new_list = []\n",
        "    for value in value_list:\n",
        "        sentences = sent_tokenize(value)\n",
        "        new_list.extend(sentences)\n",
        "    mainData[key] = new_list"
      ],
      "metadata": {
        "id": "oZ2kVWAdZ0aY"
      },
      "execution_count": 67,
      "outputs": []
    },
    {
      "cell_type": "code",
      "source": [
        "mainData[37]"
      ],
      "metadata": {
        "colab": {
          "base_uri": "https://localhost:8080/"
        },
        "id": "Ov2S9KFtZtCi",
        "outputId": "f676a1f7-6a2a-4326-e699-186be49c2217"
      },
      "execution_count": 93,
      "outputs": [
        {
          "output_type": "execute_result",
          "data": {
            "text/plain": [
              "['AI in healthcare to Improve Patient Outcomes',\n",
              " 'Introduction',\n",
              " '“If anything kills over 10 million people in the next few decades, it will be a highly infectious virus rather than a war.',\n",
              " 'Not missiles but microbes.” Bill Gates’s remarks at a TED conference in 2014, right after the world had avoided the Ebola outbreak.',\n",
              " 'When the new, unprecedented, invisible virus hit us, it met an overwhelmed and unprepared healthcare system and oblivious population.',\n",
              " 'This public health emergency demonstrated our lack of scientific consideration and underlined the alarming need for robust innovations in our health and medical facilities.',\n",
              " 'For the past few years, artificial intelligence has proven to be of tangible potential in the healthcare sectors, clinical practices, translational medical and biomedical research.',\n",
              " 'After the first case was detected in China on December 31st 2019, it was an AI program developed by BlueDot that alerted the world about the pandemic.',\n",
              " 'It was quick to realise AI’s ability to analyse large chunks of data could help in detecting patterns and identifying and tracking the possible carriers of the virus.',\n",
              " 'Many tracing apps use AI to keep tabs on the people who have been infected and prevent the risk of cross-infection by using AI algorithms that can track patterns and extract some features to classify or categorise them.',\n",
              " 'So how does AI do that?',\n",
              " 'IBM Watson, a sophisticated AI that works on cloud computing and natural language processing, has prominently contributed to the healthcare sector on a global level.',\n",
              " 'Being a conversational AI, since 2013, Watson has helped in recommending treatments to patients suffering from cancer to ensure that they get the best treatment at optimum costs.',\n",
              " 'Researchers at Google Inc. showed that an AI system can be trained on thousands of images to achieve physician-level sensitivity.',\n",
              " 'By identifying the molecular patterns associated with disease status and its subtypes, gene expression, and protein abundance levels, machine learning methods can detect fatal diseases like cancer at an early stage.',\n",
              " 'Machine Learning (ML) techniques focus mainly on analyzing structured data, which can further help in clustering patients’ traits and infer the probability of disease outcomes.',\n",
              " 'Since patient traits mainly include masses of data relating to age, gender, disease history, disease-specific data like diagnostic imaging and gene expressions, etc, ML can extract features from these data inputs by constructing data analytical algorithms.',\n",
              " 'ML algorithms are either supervised or unsupervised.',\n",
              " 'Unsupervised learning helps in extracting features and clustering similar features together that further leads to early detection of diseases.',\n",
              " 'Clustering and principal component analysis enable grouping or clustering of similar traits together that are further used to maximize or minimize the similarity between the patients within or between the clusters.',\n",
              " 'Since patient traits are recorded in multiple dimensions, such as genes, principal component analysis(PCA) creates the apparatus to reduce these dimensions which humans could have not done alone.',\n",
              " 'Supervised learning considers the outcomes of the subjects together with the traits, and further correlates the inputs with the outputs to predict the probability of getting a particular clinical event, expected value of a disease level or expected survival time, or risk of Down’s syndrome.',\n",
              " 'Biomarker panels that are mostly used to detect ovarian cancer, have outperformed the conventional statistical methods due to machine learning.',\n",
              " 'In addition to this, the use of EHRs and Bayesian networks, which are a part of supervised machine learning algorithms, can predict clinical outcomes and mortality respectively.',\n",
              " 'Unstructured data such as clinical notes and texts are converted into machine-readable structured data with the help of natural language processing(NLP).',\n",
              " 'NLP works with two components: text processing and classification.',\n",
              " 'Text processing helps in identifying a series of disease-relevant keywords in clinical notes and then through classification are further categorized into normal and abnormal cases.',\n",
              " 'Chest screening through ML and NLP has helped find abnormalities in the lungs and provide treatment to covid patients.',\n",
              " 'Healthcare organizations use NLP-based chatbots to increase interactions with patients, keeping their mental health and wellness in check.',\n",
              " 'Deep learning is a modern extension of the classical neural network techniques which helps explore more complex non-linear patterns in data, using algorithms like convolution neural network, recurrent neural network, deep belief network, and deep neural network which enables more accurate clinical prediction.',\n",
              " 'When it comes to genome interpretation, deep neural networks surpass the conventional methods of logistics regression and support vector machines.',\n",
              " 'Sepsis Watch is an AI system trained in deep learning algorithms that holds the capability to analyze over 32 million data points to create a patient’s risk score and identify the early stages of sepsis.',\n",
              " 'Another method known as the Learning-based Optimization of the Under Sampling Pattern( LOUPE) is based on integrating full resolution MRI scans with the convolutional neural network algorithm, which helps in creating more accurate reconstructions.',\n",
              " 'Robotic surgery is widely considered in most delicate surgeries like gynaecology and prostate surgery.',\n",
              " 'Even after striking the right balance between human decisions and AI precision, robotic surgery reduces surgeon efficiency as they have to be manually operated through a console.',\n",
              " 'Thus, autonomous robotic surgery is on the rise with inventions such as robotic silicon fingers that mimic the sense of touch that surgeons need to identify organs, cut tissues, etc., or robotic catheters that can navigate whether it is touching blood, tissue, or valve.',\n",
              " 'Researchers at Children’s National Hospital, Washington have already developed an AI called Smart Tissue Autonomous Robot (STAR), which performs a colon anastomosis on its own with the help of an ML-powered suturing tool, that automatically detects the patient’s breathing pattern to apply suture at the correct point.',\n",
              " 'Cloud computing in healthcare has helped in retrieving and sharing medical records safely with a reduction in maintenance costs.',\n",
              " 'Through this technology doctors and various healthcare workers have access to detailed patient data that helps in speeding up analysis ultimately leading to better care in the form of more accurate information, medications, and therapies.',\n",
              " 'How can It help in Biomedical research?',\n",
              " 'Since AI can analyze literature beyond readability, it can be used to concise biomedical research.',\n",
              " 'With the help of ML algorithms and NLP, AI can accelerate screening and indexing of biomedical research, by ranking the literature of interest which allows researchers to formulate and test scientific hypotheses far more precisely and quickly.',\n",
              " 'Taking it to the next level, AI systems like the computational modelling assistant (CMA) helps researchers to construct simulation models from the concepts they have in mind.',\n",
              " 'Such innovations have majorly contributed to topics such as tumour suppressor mechanisms and protein-protein interaction information extraction.',\n",
              " 'AI as precision medicine',\n",
              " 'Since precision medicine focuses on healthcare interventions to individuals or groups of patients based on their profile, the various AI devices pave the way to practice it more efficiently.',\n",
              " 'With the help of ML, complex algorithms like large datasets can be used to predict and create an optimal treatment strategy.',\n",
              " 'Deep learning and neural networks can be used to process data in healthcare apps and keep a close watch on the patient’s emotional state, food intake, or health monitoring.',\n",
              " '“Omics” refers to the collective technologies that help in exploring the roles, relationships of various branches ending with the suffix “omics” such as genomics, proteomics, etc.',\n",
              " 'Omics-based tests based on machine learning algorithms help find correlations and predict treatment responses, ultimately creating personalized treatments for individual patients.',\n",
              " 'How it helps in psychology and neuro patients',\n",
              " 'For psychologists studying creativity,\\xa0 AI is promising new classes of experiments that are developing data structures and programs and exploring novel theories on a new horizon.',\n",
              " 'Studies show that \\xa0AI can conduct therapy sessions, e-therapy sessions, and assessments autonomously, also assisting human practitioners before, during, or after sessions.',\n",
              " 'The Detection and Computational Analysis of Psychological Signal project uses ML, computer vision, and NLP to analyze language, physical gestures, and social signals to identify cues for human distress.',\n",
              " 'This ground-breaking technology assesses soldiers returning from combat and recognizes those who require further mental health support.',\n",
              " 'In the future, it will combine data captured during face-to-face interviews with information on sleeping, eating, and online behaviours for a complete patient view.',\n",
              " 'Stroke identification',\n",
              " 'Stroke is another frequently occurring disease that affects more than 500 million people worldwide.',\n",
              " 'Thrombus,\\xa0 in the vessel cerebral infarction is the major (about 85%) cause of stroke occurrence.',\n",
              " 'In recent years, AI techniques have been used in numerous stroke-related studies as early detection and timely treatment along with efficient outcome prediction can help solve the problem.',\n",
              " 'With AI at our disposal, large amounts of data with rich information, more complications and real-life clinical questions can be addressed in this arena.',\n",
              " 'Currently, two ML algorithms- genetic fuzzy finite state machine and PCA were implemented to build a model building solution.',\n",
              " 'These include a human activity recognition stage and a stroke onset detection stage.',\n",
              " 'An alert stroke message is activated as soon as a movement significantly different from the normal pattern is recorded.',\n",
              " 'ML methods have been applied to neuroimaging data to assist disease evaluation and predicting stroke treatment for the diagnosis.',\n",
              " 'Patient Monitoring',\n",
              " 'Today, the market for AI-based patient monitoring is impressive and monetarily enticing.',\n",
              " 'It is evolving with artificial sensors, smart technologies and explores everything from brain-computer interfaces to nanorobotics.',\n",
              " 'Companies with their smart-watches have engaged people to perform remote monitoring even when they are not “patients”.',\n",
              " 'An obvious place to start is with wearable and embedded sensors, glucose monitors, pulse monitors, oximeters, and ECG monitors.',\n",
              " 'With patient monitoring becoming crucial, AI finds numerous applications in chronic conditions, intensive care units, operating rooms, emergency rooms, and cardiac wards where timeless clinical decision-making can be measured in seconds.',\n",
              " 'More advances have started to gain traction like smart prosthetics and implants.',\n",
              " 'These play an impeccable role in patient management post-surgery or rehabilitation.',\n",
              " 'Demographics, laboratory results and vital signs can also be used to predict cardiac arrest, transfer into the intensive care unit, or even death.',\n",
              " 'In addition, an interpretable machine-learning model can assist anesthesiologists in predicting hypoxaemia events during surgery.',\n",
              " 'This suggests that with deep-learning algorithms, raw patient-monitoring data could be better used to avoid information overload and alert overload while enabling more accurate clinical prediction and timely decision-making.',\n",
              " '\\xa0Conclusion',\n",
              " 'Considering the vast range of tasks that an AI can do, it is evident that it holds deep potential in improving patient outcomes to skyrocketing levels.',\n",
              " 'Using sophisticated algorithms AI can bring a revolution in the healthcare sector.',\n",
              " 'Even after facing challenges like whether the technology will be able to deliver the promises, ethical measures, training physicians to use it, standard regulations etc, the role of AI in transforming the clinical practices cannot be ignored.',\n",
              " 'The biggest challenge is the integration of AI in daily practice.',\n",
              " 'All of these can be overcome and within that period the technologies will mature making the system far more enhanced and effective.']"
            ]
          },
          "metadata": {},
          "execution_count": 93
        }
      ]
    },
    {
      "cell_type": "markdown",
      "source": [
        "### Remove punctuations and create personal pronoun list (as next step is stop word removal which will also eliminate pronouns)"
      ],
      "metadata": {
        "id": "M4HpohM9e7zn"
      }
    },
    {
      "cell_type": "code",
      "source": [
        "import string"
      ],
      "metadata": {
        "id": "JHHl2HAh-52Y"
      },
      "execution_count": 68,
      "outputs": []
    },
    {
      "cell_type": "code",
      "source": [
        "custom_punctuations = ['“','.','”',\"?\",]\n",
        "punctuation_marks = set(custom_punctuations)"
      ],
      "metadata": {
        "id": "ZWUCBBWS5O8d"
      },
      "execution_count": 69,
      "outputs": []
    },
    {
      "cell_type": "code",
      "source": [
        "personal_pronouns = [\"i\", \"we\", \"my\", \"ours\", \"us\"]"
      ],
      "metadata": {
        "id": "Kqg_I45A-0dj"
      },
      "execution_count": 70,
      "outputs": []
    },
    {
      "cell_type": "code",
      "source": [
        "personal_pronouns_count_dict = {}"
      ],
      "metadata": {
        "id": "lmLvQorL-AeS"
      },
      "execution_count": 71,
      "outputs": []
    },
    {
      "cell_type": "code",
      "source": [
        "for key, value_list in mainData.items():\n",
        "  personal_pronouns_count = 0\n",
        "  clean_list = []\n",
        "  for value in value_list:\n",
        "    words = value.split()\n",
        "    cleaned_words = []\n",
        "    for word in words:\n",
        "      clean_word = ''.join(char for char in word if char not in punctuation_marks)\n",
        "      if clean_word == \"US\":\n",
        "        cleaned_words.append(word)\n",
        "      else:\n",
        "        cleaned_words.append(clean_word.lower())\n",
        "\n",
        "      if clean_word.lower() in personal_pronouns:\n",
        "          personal_pronouns_count +=1\n",
        "\n",
        "    sentence = ' '.join(cleaned_words)     \n",
        "    clean_list.append(sentence)\n",
        "  \n",
        "  personal_pronouns_count_dict[key] = personal_pronouns_count\n",
        "  mainData[key] = clean_list\n",
        "    "
      ],
      "metadata": {
        "id": "Uqmy0QEE5ub2"
      },
      "execution_count": 72,
      "outputs": []
    },
    {
      "cell_type": "code",
      "source": [
        "mainData[37][0:10]"
      ],
      "metadata": {
        "colab": {
          "base_uri": "https://localhost:8080/"
        },
        "id": "O60NuVsd7VHT",
        "outputId": "9df01c46-25b3-42e1-902d-ec9ce0265760"
      },
      "execution_count": 16,
      "outputs": [
        {
          "output_type": "execute_result",
          "data": {
            "text/plain": [
              "['ai in healthcare to improve patient outcomes',\n",
              " 'introduction',\n",
              " 'if anything kills over 10 million people in the next few decades, it will be a highly infectious virus rather than a war',\n",
              " 'not missiles but microbes bill gates’s remarks at a ted conference in 2014, right after the world had avoided the ebola outbreak',\n",
              " 'when the new, unprecedented, invisible virus hit us, it met an overwhelmed and unprepared healthcare system and oblivious population',\n",
              " 'this public health emergency demonstrated our lack of scientific consideration and underlined the alarming need for robust innovations in our health and medical facilities',\n",
              " 'for the past few years, artificial intelligence has proven to be of tangible potential in the healthcare sectors, clinical practices, translational medical and biomedical research',\n",
              " 'after the first case was detected in china on december 31st 2019, it was an ai program developed by bluedot that alerted the world about the pandemic',\n",
              " 'it was quick to realise ai’s ability to analyse large chunks of data could help in detecting patterns and identifying and tracking the possible carriers of the virus',\n",
              " 'many tracing apps use ai to keep tabs on the people who have been infected and prevent the risk of cross-infection by using ai algorithms that can track patterns and extract some features to classify or categorise them']"
            ]
          },
          "metadata": {},
          "execution_count": 16
        }
      ]
    },
    {
      "cell_type": "markdown",
      "source": [
        "### Removal of stop words"
      ],
      "metadata": {
        "id": "9709nynffVs3"
      }
    },
    {
      "cell_type": "code",
      "source": [
        "import os\n",
        "stop_words_dir = 'StopWords'"
      ],
      "metadata": {
        "id": "MUfC-xS7J2pi"
      },
      "execution_count": 73,
      "outputs": []
    },
    {
      "cell_type": "code",
      "source": [
        "stop_words = []\n",
        "\n",
        "for filename in os.listdir(stop_words_dir):\n",
        "  if filename.endswith('.txt'):\n",
        "    file_path = os.path.join(stop_words_dir, filename)\n",
        "    with open(file_path, 'r', encoding='latin-1') as f:\n",
        "      stop_words += [word.strip().lower() for word in f.readlines()]"
      ],
      "metadata": {
        "id": "J4uWwDQLJ3AT"
      },
      "execution_count": 75,
      "outputs": []
    },
    {
      "cell_type": "code",
      "source": [
        "stop_words[0:10]"
      ],
      "metadata": {
        "colab": {
          "base_uri": "https://localhost:8080/"
        },
        "id": "gyW5cEj9J3Cw",
        "outputId": "99a6c368-c351-4ee7-f846-e09b6e9b2201"
      },
      "execution_count": 100,
      "outputs": [
        {
          "output_type": "execute_result",
          "data": {
            "text/plain": [
              "['ernst',\n",
              " 'young',\n",
              " 'deloitte',\n",
              " 'touche',\n",
              " 'kpmg',\n",
              " 'pricewaterhousecoopers',\n",
              " 'pricewaterhouse',\n",
              " 'coopers',\n",
              " 'afghani  | afghanistan',\n",
              " 'ariary | madagascar']"
            ]
          },
          "metadata": {},
          "execution_count": 100
        }
      ]
    },
    {
      "cell_type": "code",
      "source": [],
      "metadata": {
        "id": "gJNBgNyzNO0F"
      },
      "execution_count": null,
      "outputs": []
    },
    {
      "cell_type": "code",
      "source": [
        "for key, value_list in mainData.items():\n",
        "  cleaned_list = []\n",
        "  for value in value_list:\n",
        "    words = value.split()\n",
        "    filtered_word = [word for word in words if word not in stop_words]\n",
        "    sentence = ' '.join(filtered_word)\n",
        "    cleaned_list.append(sentence)\n",
        "  mainData[key] = cleaned_list"
      ],
      "metadata": {
        "id": "LF0cnd_uNO7Q"
      },
      "execution_count": 76,
      "outputs": []
    },
    {
      "cell_type": "code",
      "source": [
        "mainData[37]"
      ],
      "metadata": {
        "colab": {
          "base_uri": "https://localhost:8080/"
        },
        "id": "rfNMlDfVNO-E",
        "outputId": "89c4d7e4-4a87-4ad6-dfad-da9f08ad20a7"
      },
      "execution_count": 102,
      "outputs": [
        {
          "output_type": "execute_result",
          "data": {
            "text/plain": [
              "['healthcare improve patient outcomes',\n",
              " 'introduction',\n",
              " 'kills 10 people decades, highly infectious virus war',\n",
              " 'missiles microbes gates’s remarks conference 2014, world avoided ebola outbreak',\n",
              " 'new, unprecedented, invisible virus hit us, met overwhelmed unprepared healthcare system oblivious population',\n",
              " 'public health emergency demonstrated lack scientific consideration underlined alarming robust innovations health medical facilities',\n",
              " 'past years, artificial intelligence proven tangible potential healthcare sectors, clinical practices, translational medical biomedical research',\n",
              " 'detected 31st 2019, program developed bluedot alerted world pandemic',\n",
              " 'realise ai’s ability analyse chunks data detecting patterns identifying tracking carriers virus',\n",
              " 'tracing apps tabs people infected prevent risk cross-infection algorithms track patterns extract features classify categorise',\n",
              " '',\n",
              " 'ibm watson, sophisticated works computing natural language processing, prominently contributed healthcare sector global level',\n",
              " 'conversational ai, 2013, helped recommending treatments patients suffering cancer ensure treatment optimum costs',\n",
              " 'researchers google showed system trained thousands images achieve physician-level sensitivity',\n",
              " 'identifying molecular patterns disease status subtypes, expression, protein abundance levels, machine learning methods detect fatal diseases cancer stage',\n",
              " 'machine learning (ml) techniques focus analyzing structured data, clustering patients’ traits infer probability disease outcomes',\n",
              " 'patient traits include masses data relating age, gender, disease history, disease-specific data diagnostic imaging expressions, etc, ml extract features data inputs constructing data analytical algorithms',\n",
              " 'ml algorithms supervised unsupervised',\n",
              " 'unsupervised learning helps extracting features clustering similar features leads detection diseases',\n",
              " 'clustering principal component analysis enable grouping clustering similar traits maximize minimize similarity patients clusters',\n",
              " 'patient traits recorded multiple dimensions, genes, principal component analysis(pca) creates apparatus reduce dimensions humans',\n",
              " 'supervised learning considers outcomes subjects traits, correlates inputs outputs predict probability clinical event, expected disease level expected survival time, risk down’s syndrome',\n",
              " 'biomarker panels detect ovarian cancer, outperformed conventional statistical methods due machine learning',\n",
              " 'addition this, ehrs bayesian networks, part supervised machine learning algorithms, predict clinical outcomes mortality',\n",
              " 'unstructured data clinical notes texts converted machine-readable structured data natural language processing(nlp)',\n",
              " 'nlp works components: text processing classification',\n",
              " 'text processing helps identifying series disease-relevant keywords clinical notes classification categorized normal abnormal cases',\n",
              " 'chest screening ml nlp helped find abnormalities lungs provide treatment covid patients',\n",
              " 'healthcare organizations nlp-based chatbots increase interactions patients, keeping mental health wellness check',\n",
              " 'deep learning modern extension classical neural network techniques helps explore complex non-linear patterns data, algorithms convolution neural network, recurrent neural network, deep belief network, deep neural network enables accurate clinical prediction',\n",
              " 'genome interpretation, deep neural networks surpass conventional methods logistics regression support vector machines',\n",
              " 'sepsis watch system trained deep learning algorithms holds capability analyze 32 data points create patient’s risk score identify stages sepsis',\n",
              " 'method learning-based optimization sampling pattern( loupe) based integrating full resolution mri scans convolutional neural network algorithm, helps creating accurate reconstructions',\n",
              " 'robotic surgery widely considered delicate surgeries gynaecology prostate surgery',\n",
              " 'striking balance human decisions precision, robotic surgery reduces surgeon efficiency manually operated console',\n",
              " 'thus, autonomous robotic surgery rise inventions robotic silicon fingers mimic sense touch surgeons identify organs, cut tissues, etc, robotic catheters navigate touching blood, tissue, valve',\n",
              " 'researchers children’s national hospital, developed called tissue autonomous robot (star), performs anastomosis ml-powered suturing tool, automatically detects patient’s breathing pattern apply suture correct point',\n",
              " 'computing healthcare helped retrieving sharing medical records safely reduction maintenance costs',\n",
              " 'technology doctors healthcare workers access detailed patient data helps speeding analysis ultimately leading care form accurate information, medications, therapies',\n",
              " 'biomedical research',\n",
              " 'analyze literature readability, concise biomedical research',\n",
              " 'ml algorithms nlp, accelerate screening indexing biomedical research, ranking literature interest researchers formulate test scientific hypotheses precisely quickly',\n",
              " 'taking level, systems computational modelling assistant (cma) helps researchers construct simulation models concepts mind',\n",
              " 'innovations majorly contributed topics tumour suppressor mechanisms protein-protein interaction information extraction',\n",
              " 'precision medicine',\n",
              " 'precision medicine focuses healthcare interventions individuals groups patients based profile, devices pave practice efficiently',\n",
              " 'ml, complex algorithms datasets predict create optimal treatment strategy',\n",
              " 'deep learning neural networks process data healthcare apps watch patient’s emotional state, food intake, health monitoring',\n",
              " 'omics refers collective technologies exploring roles, relationships branches ending suffix omics genomics, proteomics,',\n",
              " 'omics-based tests based machine learning algorithms find correlations predict treatment responses, ultimately creating personalized treatments individual patients',\n",
              " 'helps psychology neuro patients',\n",
              " 'psychologists studying creativity, promising classes experiments developing data structures programs exploring theories horizon',\n",
              " 'studies show conduct therapy sessions, e-therapy sessions, assessments autonomously, assisting human practitioners before, during,',\n",
              " 'detection computational analysis psychological signal project ml, computer vision, nlp analyze language, physical gestures, social signals identify cues human distress',\n",
              " 'ground-breaking technology assesses soldiers returning combat recognizes require mental health support',\n",
              " 'future, combine data captured face-to-face interviews information sleeping, eating, online behaviours complete patient view',\n",
              " 'stroke identification',\n",
              " 'stroke frequently occurring disease affects 500 people worldwide',\n",
              " 'thrombus, vessel cerebral infarction (about 85%) stroke occurrence',\n",
              " 'recent years, techniques numerous stroke-related studies detection timely treatment efficient outcome prediction solve problem',\n",
              " 'disposal, amounts data information, complications real-life clinical questions addressed',\n",
              " 'currently, ml algorithms- genetic fuzzy finite machine pca implemented build model building solution',\n",
              " 'include human activity recognition stage stroke onset detection stage',\n",
              " 'alert stroke message activated movement significantly normal pattern recorded',\n",
              " 'ml methods applied neuroimaging data assist disease evaluation predicting stroke treatment diagnosis',\n",
              " 'patient monitoring',\n",
              " 'today, market ai-based patient monitoring impressive monetarily enticing',\n",
              " 'evolving artificial sensors, technologies explores brain-computer interfaces nanorobotics',\n",
              " 'companies smart-watches engaged people perform remote monitoring patients',\n",
              " 'obvious start wearable embedded sensors, glucose monitors, pulse monitors, oximeters, ecg monitors',\n",
              " 'patient monitoring crucial, finds numerous applications chronic conditions, intensive care units, operating rooms, emergency rooms, cardiac wards timeless clinical decision-making measured seconds',\n",
              " 'advances started gain traction prosthetics implants',\n",
              " 'play impeccable role patient management post-surgery rehabilitation',\n",
              " 'demographics, laboratory results vital signs predict cardiac arrest, transfer intensive care unit, death',\n",
              " 'addition, interpretable machine-learning model assist anesthesiologists predicting hypoxaemia events surgery',\n",
              " 'suggests deep-learning algorithms, raw patient-monitoring data avoid information overload alert overload enabling accurate clinical prediction timely decision-making',\n",
              " 'conclusion',\n",
              " 'vast tasks do, evident holds deep potential improving patient outcomes skyrocketing levels',\n",
              " 'sophisticated algorithms bring revolution healthcare sector',\n",
              " 'facing challenges technology deliver promises, ethical measures, training physicians it, standard regulations etc, role transforming clinical practices',\n",
              " 'biggest challenge integration practice',\n",
              " 'overcome period technologies mature making system enhanced effective']"
            ]
          },
          "metadata": {},
          "execution_count": 102
        }
      ]
    },
    {
      "cell_type": "markdown",
      "source": [
        "## Preparing for computing attributes of each article"
      ],
      "metadata": {
        "id": "L9m55A6Vf1eM"
      }
    },
    {
      "cell_type": "code",
      "source": [
        "import nltk\n",
        "from nltk.stem import WordNetLemmatizer\n",
        "import syllables"
      ],
      "metadata": {
        "id": "GUG-Q8k-1UR4"
      },
      "execution_count": 77,
      "outputs": []
    },
    {
      "cell_type": "code",
      "source": [
        "nltk.download('wordnet')"
      ],
      "metadata": {
        "colab": {
          "base_uri": "https://localhost:8080/"
        },
        "id": "4XPJCFTb1jFf",
        "outputId": "b8417116-e350-49b2-91bd-02afa0df9201"
      },
      "execution_count": 78,
      "outputs": [
        {
          "output_type": "stream",
          "name": "stderr",
          "text": [
            "[nltk_data] Downloading package wordnet to /root/nltk_data...\n",
            "[nltk_data]   Package wordnet is already up-to-date!\n"
          ]
        },
        {
          "output_type": "execute_result",
          "data": {
            "text/plain": [
              "True"
            ]
          },
          "metadata": {},
          "execution_count": 78
        }
      ]
    },
    {
      "cell_type": "code",
      "source": [
        "!pip install syllables"
      ],
      "metadata": {
        "id": "8WhyJfsDft41"
      },
      "execution_count": null,
      "outputs": []
    },
    {
      "cell_type": "code",
      "source": [
        "positive_words = []\n",
        "with open('MasterDictionary/positive-words.txt', 'r') as file:    \n",
        "    for line in file:\n",
        "        word = line.strip()\n",
        "        positive_words.append(word)"
      ],
      "metadata": {
        "id": "KM-3MqEC20KC"
      },
      "execution_count": 79,
      "outputs": []
    },
    {
      "cell_type": "code",
      "source": [
        "positive_words[0:5]"
      ],
      "metadata": {
        "colab": {
          "base_uri": "https://localhost:8080/"
        },
        "id": "Mjfna5ef3XQN",
        "outputId": "d73d0548-d18b-4155-ffbc-04718bd67fa4"
      },
      "execution_count": 107,
      "outputs": [
        {
          "output_type": "execute_result",
          "data": {
            "text/plain": [
              "['a+', 'abound', 'abounds', 'abundance', 'abundant']"
            ]
          },
          "metadata": {},
          "execution_count": 107
        }
      ]
    },
    {
      "cell_type": "code",
      "source": [
        "negative_words = []\n",
        "with open('MasterDictionary/negative-words.txt', 'r', encoding='latin-1') as file:    \n",
        "    for line in file:\n",
        "        word = line.strip()\n",
        "        negative_words.append(word)"
      ],
      "metadata": {
        "id": "dU5dDyna3oeU"
      },
      "execution_count": 80,
      "outputs": []
    },
    {
      "cell_type": "code",
      "source": [
        "negative_words[0:5]"
      ],
      "metadata": {
        "colab": {
          "base_uri": "https://localhost:8080/"
        },
        "id": "jt8Nkgdc3ve4",
        "outputId": "ae0805b6-6d3f-4641-c3d0-5027f4650657"
      },
      "execution_count": 109,
      "outputs": [
        {
          "output_type": "execute_result",
          "data": {
            "text/plain": [
              "['2-faced', '2-faces', 'abnormal', 'abolish', 'abominable']"
            ]
          },
          "metadata": {},
          "execution_count": 109
        }
      ]
    },
    {
      "cell_type": "code",
      "source": [],
      "metadata": {
        "id": "k-j0wKn24Php"
      },
      "execution_count": 111,
      "outputs": []
    },
    {
      "cell_type": "code",
      "source": [
        "\n",
        "# Initialize the WordNet lemmatizer\n",
        "lemmatizer = WordNetLemmatizer()\n",
        "\n",
        "# Function to normalize a word by removing apostrophes and getting its singular form\n",
        "def normalize_word(word):\n",
        "    word = word.replace(\"'\", \"\")\n",
        "    return lemmatizer.lemmatize(word.lower())\n",
        "\n",
        "# Function to count syllables in a word while handling exceptions\n",
        "def count_syllables(word):\n",
        "    if word.endswith(\"es\") or word.endswith(\"ed\"):\n",
        "        word = word[:-2]  # Remove \"es\" or \"ed\" from the end of the word\n",
        "    return syllables.estimate(word)"
      ],
      "metadata": {
        "id": "6neAUFByjyG6"
      },
      "execution_count": 82,
      "outputs": []
    },
    {
      "cell_type": "code",
      "source": [
        "positive_scores_dict = {}\n",
        "negative_scores_dict = {}\n",
        "word_count_dict = {}\n",
        "polarity_scores_dict = {}\n",
        "subjectivity_score_dict = {}\n",
        "avg_sentence_length_dict = {}\n",
        "avg_words_per_sentence_dict = {}\n",
        "avg_word_length_dict = {}\n",
        "syllable_count_dict = {}\n",
        "complex_word_count_dict = {}\n",
        "percentage_of_complex_words_dict = {}\n",
        "fog_index_dict = {}\n"
      ],
      "metadata": {
        "id": "ATa01Ql8nqp5"
      },
      "execution_count": 83,
      "outputs": []
    },
    {
      "cell_type": "code",
      "source": [
        "def check_range(number, min, max):\n",
        "    if number >= min and number <= max:\n",
        "        return number\n",
        "    elif number < min:\n",
        "        return min\n",
        "    else:\n",
        "        return max"
      ],
      "metadata": {
        "id": "uzjRsDUNDMHg"
      },
      "execution_count": 84,
      "outputs": []
    },
    {
      "cell_type": "markdown",
      "source": [
        "## Computing the final attributes for each article"
      ],
      "metadata": {
        "id": "ahZkhseqgIqg"
      }
    },
    {
      "cell_type": "code",
      "source": [
        "for key, lst in mainData.items():\n",
        "    positive_score = 0\n",
        "    negative_score = 0\n",
        "    word_count = 0\n",
        "    sentence_count = len(lst)\n",
        "    total_word_length = 0\n",
        "    personal_pronouns_count = 0\n",
        "    total_syllable_count = 0\n",
        "    complex_word_count = 0\n",
        "\n",
        "    for sentence in lst:\n",
        "      for word in sentence.split():\n",
        "        normalized_word = normalize_word(word)\n",
        "        if normalized_word in positive_words:\n",
        "          positive_score += 1\n",
        "        elif normalized_word in negative_words:\n",
        "          negative_score += -1\n",
        "\n",
        "        word_count+=1\n",
        "        total_word_length += len(word)\n",
        "        total_syllable_count += count_syllables(normalized_word)\n",
        "\n",
        "        if total_syllable_count > 2:\n",
        "          complex_word_count += 1\n",
        "          \n",
        "\n",
        "    positive_scores_dict[key] = positive_score\n",
        "    negative_scores_dict[key] = negative_score\n",
        "\n",
        "    polarity_score = (positive_score - negative_score) / ((positive_score + negative_score) + 0.000001)\n",
        "    polarity_score = check_range(polarity_score, -1, 1)\n",
        "    polarity_scores_dict[key] = polarity_score\n",
        "\n",
        "    subjectivity_score = (positive_score - negative_score)/(word_count + 0.000001)\n",
        "    subjectivity_score = check_range(subjectivity_score, 0, 1)\n",
        "    subjectivity_score_dict[key] = subjectivity_score\n",
        "\n",
        "    avg_sentence_len = word_count/sentence_count\n",
        "    avg_sentence_length_dict[key] = avg_sentence_len\n",
        "\n",
        "    percentage_complex_word = complex_word_count / word_count\n",
        "    percentage_of_complex_words_dict[key] = percentage_complex_word\n",
        "\n",
        "    fog_index_dict[key] = 0.4 * (avg_sentence_len + percentage_complex_word)\n",
        "\n",
        "    avg_words_per_sentence = word_count/sentence_count\n",
        "    avg_words_per_sentence_dict[key] = avg_words_per_sentence\n",
        "\n",
        "\n",
        "    complex_word_count_dict[key] = complex_word_count\n",
        "\n",
        "    word_count_dict[key] = word_count\n",
        "\n",
        "    syllable_per_word = total_syllable_count/word_count\n",
        "    syllable_count_dict[key] = syllable_per_word\n",
        "\n",
        "\n",
        "    avg_word_len = total_word_length/word_count\n",
        "    avg_word_length_dict[key] = avg_word_len\n",
        "    \n",
        "\n"
      ],
      "metadata": {
        "id": "uAu5UKE-39IT"
      },
      "execution_count": 91,
      "outputs": []
    },
    {
      "cell_type": "code",
      "source": [
        "positive_scores_dict"
      ],
      "metadata": {
        "id": "XEx0K5Kl4yes"
      },
      "execution_count": null,
      "outputs": []
    },
    {
      "cell_type": "markdown",
      "source": [
        "## Combining the data frames and exporting to output as excel file"
      ],
      "metadata": {
        "id": "yAyws9L5gQBk"
      }
    },
    {
      "cell_type": "code",
      "source": [
        "# Create a list to store the data for each row\n",
        "data = []\n",
        "\n",
        "# Iterate over the keys in the positive_scores_dict (assuming both dictionaries have the same keys)\n",
        "for key in positive_scores_dict.keys():\n",
        "    data.append([key, positive_scores_dict[key], negative_scores_dict[key], polarity_scores_dict[key],subjectivity_score_dict[key],avg_sentence_length_dict[key], percentage_of_complex_words_dict[key], fog_index_dict[key],avg_words_per_sentence_dict[key],complex_word_count_dict[key],word_count_dict[key], syllable_count_dict[key], personal_pronouns_count_dict[key], avg_word_length_dict[key]])\n",
        "\n",
        "# Create a dataframe using the data list and specify the column names\n",
        "df = pd.DataFrame(data, columns=['URL_ID', 'POSITIVE_SCORE', 'NEGATIVE_SCORE',\"POLARITY_SCORE\",\"SUBJECTIVITY_SCORE\",\"AVG SENTENCE LENGTH\",\"PERCENTAGE OF COMPLEX WORDS\", \"FOG INDEX\", \"AVG NUMBER OF WORDS PER SENTENCE\",\"COMPLEX WORD COUNT\",\"WORD COUNT\", \"SYLLABLE PER WORD\", \"PERSONAL PRONOUNS\", \"AVG WORD LENGTH\"])"
      ],
      "metadata": {
        "id": "jhVaxsPI4R6a"
      },
      "execution_count": 92,
      "outputs": []
    },
    {
      "cell_type": "code",
      "source": [],
      "metadata": {
        "id": "0yxi9ee0__SN"
      },
      "execution_count": null,
      "outputs": []
    },
    {
      "cell_type": "code",
      "source": [
        "df"
      ],
      "metadata": {
        "colab": {
          "base_uri": "https://localhost:8080/",
          "height": 502
        },
        "id": "sslFwXG54lZx",
        "outputId": "9c183270-aed8-4baa-95f4-97bab20ae1c6"
      },
      "execution_count": 93,
      "outputs": [
        {
          "output_type": "execute_result",
          "data": {
            "text/plain": [
              "     URL_ID  POSITIVE_SCORE  NEGATIVE_SCORE  POLARITY_SCORE  \\\n",
              "0        37              69             -32             1.0   \n",
              "1        38              65             -35             1.0   \n",
              "2        39              62             -40             1.0   \n",
              "3        40              56             -28             1.0   \n",
              "4        41              59             -25             1.0   \n",
              "..      ...             ...             ...             ...   \n",
              "106     146              22             -24            -1.0   \n",
              "107     147              30              -9             1.0   \n",
              "108     148              36             -45            -1.0   \n",
              "109     149              33              -3             1.0   \n",
              "110     150              38             -40            -1.0   \n",
              "\n",
              "     SUBJECTIVITY_SCORE  AVG SENTENCE LENGTH  PERCENTAGE OF COMPLEX WORDS  \\\n",
              "0              0.104016            11.841463                     1.000000   \n",
              "1              0.166945             7.487500                     0.998331   \n",
              "2              0.122596             9.142857                     0.998798   \n",
              "3              0.131661             6.194175                     1.000000   \n",
              "4              0.106870             9.469880                     1.000000   \n",
              "..                  ...                  ...                          ...   \n",
              "106            0.108235             8.173077                     0.997647   \n",
              "107            0.073585            10.600000                     1.000000   \n",
              "108            0.139655             8.656716                     0.998276   \n",
              "109            0.125000            10.666667                     1.000000   \n",
              "110            0.157895             7.484848                     1.000000   \n",
              "\n",
              "     FOG INDEX  AVG NUMBER OF WORDS PER SENTENCE  COMPLEX WORD COUNT  \\\n",
              "0     5.136585                         11.841463                 971   \n",
              "1     3.394332                          7.487500                 598   \n",
              "2     4.056662                          9.142857                 831   \n",
              "3     2.877670                          6.194175                 638   \n",
              "4     4.187952                          9.469880                 786   \n",
              "..         ...                               ...                 ...   \n",
              "106   3.668290                          8.173077                 424   \n",
              "107   4.640000                         10.600000                 530   \n",
              "108   3.861997                          8.656716                 579   \n",
              "109   4.666667                         10.666667                 288   \n",
              "110   3.393939                          7.484848                 494   \n",
              "\n",
              "     WORD COUNT  SYLLABLE PER WORD  PERSONAL PRONOUNS  AVG WORD LENGTH  \n",
              "0           971           2.571576                  0         7.807415  \n",
              "1           599           2.277129                  6         7.193656  \n",
              "2           832           2.631010                  2         7.822115  \n",
              "3           638           2.387147                 18         7.126959  \n",
              "4           786           2.391858                 15         7.318066  \n",
              "..          ...                ...                ...              ...  \n",
              "106         425           2.458824                 11         7.797647  \n",
              "107         530           2.460377                  2         7.390566  \n",
              "108         580           2.396552                  2         7.084483  \n",
              "109         288           2.649306                  0         7.927083  \n",
              "110         494           2.473684                  8         7.248988  \n",
              "\n",
              "[111 rows x 14 columns]"
            ],
            "text/html": [
              "\n",
              "  <div id=\"df-20f2e5bf-8aa2-4fbb-9ecf-b78f5a3b362b\">\n",
              "    <div class=\"colab-df-container\">\n",
              "      <div>\n",
              "<style scoped>\n",
              "    .dataframe tbody tr th:only-of-type {\n",
              "        vertical-align: middle;\n",
              "    }\n",
              "\n",
              "    .dataframe tbody tr th {\n",
              "        vertical-align: top;\n",
              "    }\n",
              "\n",
              "    .dataframe thead th {\n",
              "        text-align: right;\n",
              "    }\n",
              "</style>\n",
              "<table border=\"1\" class=\"dataframe\">\n",
              "  <thead>\n",
              "    <tr style=\"text-align: right;\">\n",
              "      <th></th>\n",
              "      <th>URL_ID</th>\n",
              "      <th>POSITIVE_SCORE</th>\n",
              "      <th>NEGATIVE_SCORE</th>\n",
              "      <th>POLARITY_SCORE</th>\n",
              "      <th>SUBJECTIVITY_SCORE</th>\n",
              "      <th>AVG SENTENCE LENGTH</th>\n",
              "      <th>PERCENTAGE OF COMPLEX WORDS</th>\n",
              "      <th>FOG INDEX</th>\n",
              "      <th>AVG NUMBER OF WORDS PER SENTENCE</th>\n",
              "      <th>COMPLEX WORD COUNT</th>\n",
              "      <th>WORD COUNT</th>\n",
              "      <th>SYLLABLE PER WORD</th>\n",
              "      <th>PERSONAL PRONOUNS</th>\n",
              "      <th>AVG WORD LENGTH</th>\n",
              "    </tr>\n",
              "  </thead>\n",
              "  <tbody>\n",
              "    <tr>\n",
              "      <th>0</th>\n",
              "      <td>37</td>\n",
              "      <td>69</td>\n",
              "      <td>-32</td>\n",
              "      <td>1.0</td>\n",
              "      <td>0.104016</td>\n",
              "      <td>11.841463</td>\n",
              "      <td>1.000000</td>\n",
              "      <td>5.136585</td>\n",
              "      <td>11.841463</td>\n",
              "      <td>971</td>\n",
              "      <td>971</td>\n",
              "      <td>2.571576</td>\n",
              "      <td>0</td>\n",
              "      <td>7.807415</td>\n",
              "    </tr>\n",
              "    <tr>\n",
              "      <th>1</th>\n",
              "      <td>38</td>\n",
              "      <td>65</td>\n",
              "      <td>-35</td>\n",
              "      <td>1.0</td>\n",
              "      <td>0.166945</td>\n",
              "      <td>7.487500</td>\n",
              "      <td>0.998331</td>\n",
              "      <td>3.394332</td>\n",
              "      <td>7.487500</td>\n",
              "      <td>598</td>\n",
              "      <td>599</td>\n",
              "      <td>2.277129</td>\n",
              "      <td>6</td>\n",
              "      <td>7.193656</td>\n",
              "    </tr>\n",
              "    <tr>\n",
              "      <th>2</th>\n",
              "      <td>39</td>\n",
              "      <td>62</td>\n",
              "      <td>-40</td>\n",
              "      <td>1.0</td>\n",
              "      <td>0.122596</td>\n",
              "      <td>9.142857</td>\n",
              "      <td>0.998798</td>\n",
              "      <td>4.056662</td>\n",
              "      <td>9.142857</td>\n",
              "      <td>831</td>\n",
              "      <td>832</td>\n",
              "      <td>2.631010</td>\n",
              "      <td>2</td>\n",
              "      <td>7.822115</td>\n",
              "    </tr>\n",
              "    <tr>\n",
              "      <th>3</th>\n",
              "      <td>40</td>\n",
              "      <td>56</td>\n",
              "      <td>-28</td>\n",
              "      <td>1.0</td>\n",
              "      <td>0.131661</td>\n",
              "      <td>6.194175</td>\n",
              "      <td>1.000000</td>\n",
              "      <td>2.877670</td>\n",
              "      <td>6.194175</td>\n",
              "      <td>638</td>\n",
              "      <td>638</td>\n",
              "      <td>2.387147</td>\n",
              "      <td>18</td>\n",
              "      <td>7.126959</td>\n",
              "    </tr>\n",
              "    <tr>\n",
              "      <th>4</th>\n",
              "      <td>41</td>\n",
              "      <td>59</td>\n",
              "      <td>-25</td>\n",
              "      <td>1.0</td>\n",
              "      <td>0.106870</td>\n",
              "      <td>9.469880</td>\n",
              "      <td>1.000000</td>\n",
              "      <td>4.187952</td>\n",
              "      <td>9.469880</td>\n",
              "      <td>786</td>\n",
              "      <td>786</td>\n",
              "      <td>2.391858</td>\n",
              "      <td>15</td>\n",
              "      <td>7.318066</td>\n",
              "    </tr>\n",
              "    <tr>\n",
              "      <th>...</th>\n",
              "      <td>...</td>\n",
              "      <td>...</td>\n",
              "      <td>...</td>\n",
              "      <td>...</td>\n",
              "      <td>...</td>\n",
              "      <td>...</td>\n",
              "      <td>...</td>\n",
              "      <td>...</td>\n",
              "      <td>...</td>\n",
              "      <td>...</td>\n",
              "      <td>...</td>\n",
              "      <td>...</td>\n",
              "      <td>...</td>\n",
              "      <td>...</td>\n",
              "    </tr>\n",
              "    <tr>\n",
              "      <th>106</th>\n",
              "      <td>146</td>\n",
              "      <td>22</td>\n",
              "      <td>-24</td>\n",
              "      <td>-1.0</td>\n",
              "      <td>0.108235</td>\n",
              "      <td>8.173077</td>\n",
              "      <td>0.997647</td>\n",
              "      <td>3.668290</td>\n",
              "      <td>8.173077</td>\n",
              "      <td>424</td>\n",
              "      <td>425</td>\n",
              "      <td>2.458824</td>\n",
              "      <td>11</td>\n",
              "      <td>7.797647</td>\n",
              "    </tr>\n",
              "    <tr>\n",
              "      <th>107</th>\n",
              "      <td>147</td>\n",
              "      <td>30</td>\n",
              "      <td>-9</td>\n",
              "      <td>1.0</td>\n",
              "      <td>0.073585</td>\n",
              "      <td>10.600000</td>\n",
              "      <td>1.000000</td>\n",
              "      <td>4.640000</td>\n",
              "      <td>10.600000</td>\n",
              "      <td>530</td>\n",
              "      <td>530</td>\n",
              "      <td>2.460377</td>\n",
              "      <td>2</td>\n",
              "      <td>7.390566</td>\n",
              "    </tr>\n",
              "    <tr>\n",
              "      <th>108</th>\n",
              "      <td>148</td>\n",
              "      <td>36</td>\n",
              "      <td>-45</td>\n",
              "      <td>-1.0</td>\n",
              "      <td>0.139655</td>\n",
              "      <td>8.656716</td>\n",
              "      <td>0.998276</td>\n",
              "      <td>3.861997</td>\n",
              "      <td>8.656716</td>\n",
              "      <td>579</td>\n",
              "      <td>580</td>\n",
              "      <td>2.396552</td>\n",
              "      <td>2</td>\n",
              "      <td>7.084483</td>\n",
              "    </tr>\n",
              "    <tr>\n",
              "      <th>109</th>\n",
              "      <td>149</td>\n",
              "      <td>33</td>\n",
              "      <td>-3</td>\n",
              "      <td>1.0</td>\n",
              "      <td>0.125000</td>\n",
              "      <td>10.666667</td>\n",
              "      <td>1.000000</td>\n",
              "      <td>4.666667</td>\n",
              "      <td>10.666667</td>\n",
              "      <td>288</td>\n",
              "      <td>288</td>\n",
              "      <td>2.649306</td>\n",
              "      <td>0</td>\n",
              "      <td>7.927083</td>\n",
              "    </tr>\n",
              "    <tr>\n",
              "      <th>110</th>\n",
              "      <td>150</td>\n",
              "      <td>38</td>\n",
              "      <td>-40</td>\n",
              "      <td>-1.0</td>\n",
              "      <td>0.157895</td>\n",
              "      <td>7.484848</td>\n",
              "      <td>1.000000</td>\n",
              "      <td>3.393939</td>\n",
              "      <td>7.484848</td>\n",
              "      <td>494</td>\n",
              "      <td>494</td>\n",
              "      <td>2.473684</td>\n",
              "      <td>8</td>\n",
              "      <td>7.248988</td>\n",
              "    </tr>\n",
              "  </tbody>\n",
              "</table>\n",
              "<p>111 rows × 14 columns</p>\n",
              "</div>\n",
              "      <button class=\"colab-df-convert\" onclick=\"convertToInteractive('df-20f2e5bf-8aa2-4fbb-9ecf-b78f5a3b362b')\"\n",
              "              title=\"Convert this dataframe to an interactive table.\"\n",
              "              style=\"display:none;\">\n",
              "        \n",
              "  <svg xmlns=\"http://www.w3.org/2000/svg\" height=\"24px\"viewBox=\"0 0 24 24\"\n",
              "       width=\"24px\">\n",
              "    <path d=\"M0 0h24v24H0V0z\" fill=\"none\"/>\n",
              "    <path d=\"M18.56 5.44l.94 2.06.94-2.06 2.06-.94-2.06-.94-.94-2.06-.94 2.06-2.06.94zm-11 1L8.5 8.5l.94-2.06 2.06-.94-2.06-.94L8.5 2.5l-.94 2.06-2.06.94zm10 10l.94 2.06.94-2.06 2.06-.94-2.06-.94-.94-2.06-.94 2.06-2.06.94z\"/><path d=\"M17.41 7.96l-1.37-1.37c-.4-.4-.92-.59-1.43-.59-.52 0-1.04.2-1.43.59L10.3 9.45l-7.72 7.72c-.78.78-.78 2.05 0 2.83L4 21.41c.39.39.9.59 1.41.59.51 0 1.02-.2 1.41-.59l7.78-7.78 2.81-2.81c.8-.78.8-2.07 0-2.86zM5.41 20L4 18.59l7.72-7.72 1.47 1.35L5.41 20z\"/>\n",
              "  </svg>\n",
              "      </button>\n",
              "      \n",
              "  <style>\n",
              "    .colab-df-container {\n",
              "      display:flex;\n",
              "      flex-wrap:wrap;\n",
              "      gap: 12px;\n",
              "    }\n",
              "\n",
              "    .colab-df-convert {\n",
              "      background-color: #E8F0FE;\n",
              "      border: none;\n",
              "      border-radius: 50%;\n",
              "      cursor: pointer;\n",
              "      display: none;\n",
              "      fill: #1967D2;\n",
              "      height: 32px;\n",
              "      padding: 0 0 0 0;\n",
              "      width: 32px;\n",
              "    }\n",
              "\n",
              "    .colab-df-convert:hover {\n",
              "      background-color: #E2EBFA;\n",
              "      box-shadow: 0px 1px 2px rgba(60, 64, 67, 0.3), 0px 1px 3px 1px rgba(60, 64, 67, 0.15);\n",
              "      fill: #174EA6;\n",
              "    }\n",
              "\n",
              "    [theme=dark] .colab-df-convert {\n",
              "      background-color: #3B4455;\n",
              "      fill: #D2E3FC;\n",
              "    }\n",
              "\n",
              "    [theme=dark] .colab-df-convert:hover {\n",
              "      background-color: #434B5C;\n",
              "      box-shadow: 0px 1px 3px 1px rgba(0, 0, 0, 0.15);\n",
              "      filter: drop-shadow(0px 1px 2px rgba(0, 0, 0, 0.3));\n",
              "      fill: #FFFFFF;\n",
              "    }\n",
              "  </style>\n",
              "\n",
              "      <script>\n",
              "        const buttonEl =\n",
              "          document.querySelector('#df-20f2e5bf-8aa2-4fbb-9ecf-b78f5a3b362b button.colab-df-convert');\n",
              "        buttonEl.style.display =\n",
              "          google.colab.kernel.accessAllowed ? 'block' : 'none';\n",
              "\n",
              "        async function convertToInteractive(key) {\n",
              "          const element = document.querySelector('#df-20f2e5bf-8aa2-4fbb-9ecf-b78f5a3b362b');\n",
              "          const dataTable =\n",
              "            await google.colab.kernel.invokeFunction('convertToInteractive',\n",
              "                                                     [key], {});\n",
              "          if (!dataTable) return;\n",
              "\n",
              "          const docLinkHtml = 'Like what you see? Visit the ' +\n",
              "            '<a target=\"_blank\" href=https://colab.research.google.com/notebooks/data_table.ipynb>data table notebook</a>'\n",
              "            + ' to learn more about interactive tables.';\n",
              "          element.innerHTML = '';\n",
              "          dataTable['output_type'] = 'display_data';\n",
              "          await google.colab.output.renderOutput(dataTable, element);\n",
              "          const docLink = document.createElement('div');\n",
              "          docLink.innerHTML = docLinkHtml;\n",
              "          element.appendChild(docLink);\n",
              "        }\n",
              "      </script>\n",
              "    </div>\n",
              "  </div>\n",
              "  "
            ]
          },
          "metadata": {},
          "execution_count": 93
        }
      ]
    },
    {
      "cell_type": "code",
      "source": [
        "final_data = pd.merge(dataset, df, on='URL_ID', how='left')"
      ],
      "metadata": {
        "id": "POOczPP2FTd4"
      },
      "execution_count": 94,
      "outputs": []
    },
    {
      "cell_type": "code",
      "source": [
        "final_data[0:10]"
      ],
      "metadata": {
        "colab": {
          "base_uri": "https://localhost:8080/",
          "height": 670
        },
        "id": "fcgVX1hbFxVe",
        "outputId": "4b86ace6-a104-4d8a-d090-f98b4432ce69"
      },
      "execution_count": 95,
      "outputs": [
        {
          "output_type": "execute_result",
          "data": {
            "text/plain": [
              "   URL_ID                                                URL  POSITIVE_SCORE  \\\n",
              "0      37  https://insights.blackcoffer.com/ai-in-healthc...            69.0   \n",
              "1      38  https://insights.blackcoffer.com/what-if-the-c...            65.0   \n",
              "2      39  https://insights.blackcoffer.com/what-jobs-wil...            62.0   \n",
              "3      40  https://insights.blackcoffer.com/will-machine-...            56.0   \n",
              "4      41  https://insights.blackcoffer.com/will-ai-repla...            59.0   \n",
              "5      42  https://insights.blackcoffer.com/man-and-machi...            37.0   \n",
              "6      43  https://insights.blackcoffer.com/in-future-or-...            24.0   \n",
              "7      44  https://insights.blackcoffer.com/how-neural-ne...             NaN   \n",
              "8      45  https://insights.blackcoffer.com/how-machine-l...            30.0   \n",
              "9      46  https://insights.blackcoffer.com/deep-learning...            64.0   \n",
              "\n",
              "   NEGATIVE_SCORE  POLARITY_SCORE  SUBJECTIVITY_SCORE  AVG SENTENCE LENGTH  \\\n",
              "0           -32.0             1.0            0.104016            11.841463   \n",
              "1           -35.0             1.0            0.166945             7.487500   \n",
              "2           -40.0             1.0            0.122596             9.142857   \n",
              "3           -28.0             1.0            0.131661             6.194175   \n",
              "4           -25.0             1.0            0.106870             9.469880   \n",
              "5           -20.0             1.0            0.101968             9.637931   \n",
              "6           -10.0             1.0            0.099707             7.413043   \n",
              "7             NaN             NaN                 NaN                  NaN   \n",
              "8           -11.0             1.0            0.128931             8.833333   \n",
              "9           -30.0             1.0            0.099788             9.915789   \n",
              "\n",
              "   PERCENTAGE OF COMPLEX WORDS  FOG INDEX  AVG NUMBER OF WORDS PER SENTENCE  \\\n",
              "0                     1.000000   5.136585                         11.841463   \n",
              "1                     0.998331   3.394332                          7.487500   \n",
              "2                     0.998798   4.056662                          9.142857   \n",
              "3                     1.000000   2.877670                          6.194175   \n",
              "4                     1.000000   4.187952                          9.469880   \n",
              "5                     1.000000   4.255172                          9.637931   \n",
              "6                     0.997067   3.364044                          7.413043   \n",
              "7                          NaN        NaN                               NaN   \n",
              "8                     1.000000   3.933333                          8.833333   \n",
              "9                     0.998938   4.365891                          9.915789   \n",
              "\n",
              "   COMPLEX WORD COUNT  WORD COUNT  SYLLABLE PER WORD  PERSONAL PRONOUNS  \\\n",
              "0               971.0       971.0           2.571576                0.0   \n",
              "1               598.0       599.0           2.277129                6.0   \n",
              "2               831.0       832.0           2.631010                2.0   \n",
              "3               638.0       638.0           2.387147               18.0   \n",
              "4               786.0       786.0           2.391858               15.0   \n",
              "5               559.0       559.0           2.327370               18.0   \n",
              "6               340.0       341.0           2.451613                7.0   \n",
              "7                 NaN         NaN                NaN                NaN   \n",
              "8               318.0       318.0           2.198113                0.0   \n",
              "9               941.0       942.0           2.453291                8.0   \n",
              "\n",
              "   AVG WORD LENGTH  \n",
              "0         7.807415  \n",
              "1         7.193656  \n",
              "2         7.822115  \n",
              "3         7.126959  \n",
              "4         7.318066  \n",
              "5         7.194991  \n",
              "6         7.228739  \n",
              "7              NaN  \n",
              "8         6.874214  \n",
              "9         7.326964  "
            ],
            "text/html": [
              "\n",
              "  <div id=\"df-50c7d5ef-23f9-42f9-a972-bfdca5ca4d93\">\n",
              "    <div class=\"colab-df-container\">\n",
              "      <div>\n",
              "<style scoped>\n",
              "    .dataframe tbody tr th:only-of-type {\n",
              "        vertical-align: middle;\n",
              "    }\n",
              "\n",
              "    .dataframe tbody tr th {\n",
              "        vertical-align: top;\n",
              "    }\n",
              "\n",
              "    .dataframe thead th {\n",
              "        text-align: right;\n",
              "    }\n",
              "</style>\n",
              "<table border=\"1\" class=\"dataframe\">\n",
              "  <thead>\n",
              "    <tr style=\"text-align: right;\">\n",
              "      <th></th>\n",
              "      <th>URL_ID</th>\n",
              "      <th>URL</th>\n",
              "      <th>POSITIVE_SCORE</th>\n",
              "      <th>NEGATIVE_SCORE</th>\n",
              "      <th>POLARITY_SCORE</th>\n",
              "      <th>SUBJECTIVITY_SCORE</th>\n",
              "      <th>AVG SENTENCE LENGTH</th>\n",
              "      <th>PERCENTAGE OF COMPLEX WORDS</th>\n",
              "      <th>FOG INDEX</th>\n",
              "      <th>AVG NUMBER OF WORDS PER SENTENCE</th>\n",
              "      <th>COMPLEX WORD COUNT</th>\n",
              "      <th>WORD COUNT</th>\n",
              "      <th>SYLLABLE PER WORD</th>\n",
              "      <th>PERSONAL PRONOUNS</th>\n",
              "      <th>AVG WORD LENGTH</th>\n",
              "    </tr>\n",
              "  </thead>\n",
              "  <tbody>\n",
              "    <tr>\n",
              "      <th>0</th>\n",
              "      <td>37</td>\n",
              "      <td>https://insights.blackcoffer.com/ai-in-healthc...</td>\n",
              "      <td>69.0</td>\n",
              "      <td>-32.0</td>\n",
              "      <td>1.0</td>\n",
              "      <td>0.104016</td>\n",
              "      <td>11.841463</td>\n",
              "      <td>1.000000</td>\n",
              "      <td>5.136585</td>\n",
              "      <td>11.841463</td>\n",
              "      <td>971.0</td>\n",
              "      <td>971.0</td>\n",
              "      <td>2.571576</td>\n",
              "      <td>0.0</td>\n",
              "      <td>7.807415</td>\n",
              "    </tr>\n",
              "    <tr>\n",
              "      <th>1</th>\n",
              "      <td>38</td>\n",
              "      <td>https://insights.blackcoffer.com/what-if-the-c...</td>\n",
              "      <td>65.0</td>\n",
              "      <td>-35.0</td>\n",
              "      <td>1.0</td>\n",
              "      <td>0.166945</td>\n",
              "      <td>7.487500</td>\n",
              "      <td>0.998331</td>\n",
              "      <td>3.394332</td>\n",
              "      <td>7.487500</td>\n",
              "      <td>598.0</td>\n",
              "      <td>599.0</td>\n",
              "      <td>2.277129</td>\n",
              "      <td>6.0</td>\n",
              "      <td>7.193656</td>\n",
              "    </tr>\n",
              "    <tr>\n",
              "      <th>2</th>\n",
              "      <td>39</td>\n",
              "      <td>https://insights.blackcoffer.com/what-jobs-wil...</td>\n",
              "      <td>62.0</td>\n",
              "      <td>-40.0</td>\n",
              "      <td>1.0</td>\n",
              "      <td>0.122596</td>\n",
              "      <td>9.142857</td>\n",
              "      <td>0.998798</td>\n",
              "      <td>4.056662</td>\n",
              "      <td>9.142857</td>\n",
              "      <td>831.0</td>\n",
              "      <td>832.0</td>\n",
              "      <td>2.631010</td>\n",
              "      <td>2.0</td>\n",
              "      <td>7.822115</td>\n",
              "    </tr>\n",
              "    <tr>\n",
              "      <th>3</th>\n",
              "      <td>40</td>\n",
              "      <td>https://insights.blackcoffer.com/will-machine-...</td>\n",
              "      <td>56.0</td>\n",
              "      <td>-28.0</td>\n",
              "      <td>1.0</td>\n",
              "      <td>0.131661</td>\n",
              "      <td>6.194175</td>\n",
              "      <td>1.000000</td>\n",
              "      <td>2.877670</td>\n",
              "      <td>6.194175</td>\n",
              "      <td>638.0</td>\n",
              "      <td>638.0</td>\n",
              "      <td>2.387147</td>\n",
              "      <td>18.0</td>\n",
              "      <td>7.126959</td>\n",
              "    </tr>\n",
              "    <tr>\n",
              "      <th>4</th>\n",
              "      <td>41</td>\n",
              "      <td>https://insights.blackcoffer.com/will-ai-repla...</td>\n",
              "      <td>59.0</td>\n",
              "      <td>-25.0</td>\n",
              "      <td>1.0</td>\n",
              "      <td>0.106870</td>\n",
              "      <td>9.469880</td>\n",
              "      <td>1.000000</td>\n",
              "      <td>4.187952</td>\n",
              "      <td>9.469880</td>\n",
              "      <td>786.0</td>\n",
              "      <td>786.0</td>\n",
              "      <td>2.391858</td>\n",
              "      <td>15.0</td>\n",
              "      <td>7.318066</td>\n",
              "    </tr>\n",
              "    <tr>\n",
              "      <th>5</th>\n",
              "      <td>42</td>\n",
              "      <td>https://insights.blackcoffer.com/man-and-machi...</td>\n",
              "      <td>37.0</td>\n",
              "      <td>-20.0</td>\n",
              "      <td>1.0</td>\n",
              "      <td>0.101968</td>\n",
              "      <td>9.637931</td>\n",
              "      <td>1.000000</td>\n",
              "      <td>4.255172</td>\n",
              "      <td>9.637931</td>\n",
              "      <td>559.0</td>\n",
              "      <td>559.0</td>\n",
              "      <td>2.327370</td>\n",
              "      <td>18.0</td>\n",
              "      <td>7.194991</td>\n",
              "    </tr>\n",
              "    <tr>\n",
              "      <th>6</th>\n",
              "      <td>43</td>\n",
              "      <td>https://insights.blackcoffer.com/in-future-or-...</td>\n",
              "      <td>24.0</td>\n",
              "      <td>-10.0</td>\n",
              "      <td>1.0</td>\n",
              "      <td>0.099707</td>\n",
              "      <td>7.413043</td>\n",
              "      <td>0.997067</td>\n",
              "      <td>3.364044</td>\n",
              "      <td>7.413043</td>\n",
              "      <td>340.0</td>\n",
              "      <td>341.0</td>\n",
              "      <td>2.451613</td>\n",
              "      <td>7.0</td>\n",
              "      <td>7.228739</td>\n",
              "    </tr>\n",
              "    <tr>\n",
              "      <th>7</th>\n",
              "      <td>44</td>\n",
              "      <td>https://insights.blackcoffer.com/how-neural-ne...</td>\n",
              "      <td>NaN</td>\n",
              "      <td>NaN</td>\n",
              "      <td>NaN</td>\n",
              "      <td>NaN</td>\n",
              "      <td>NaN</td>\n",
              "      <td>NaN</td>\n",
              "      <td>NaN</td>\n",
              "      <td>NaN</td>\n",
              "      <td>NaN</td>\n",
              "      <td>NaN</td>\n",
              "      <td>NaN</td>\n",
              "      <td>NaN</td>\n",
              "      <td>NaN</td>\n",
              "    </tr>\n",
              "    <tr>\n",
              "      <th>8</th>\n",
              "      <td>45</td>\n",
              "      <td>https://insights.blackcoffer.com/how-machine-l...</td>\n",
              "      <td>30.0</td>\n",
              "      <td>-11.0</td>\n",
              "      <td>1.0</td>\n",
              "      <td>0.128931</td>\n",
              "      <td>8.833333</td>\n",
              "      <td>1.000000</td>\n",
              "      <td>3.933333</td>\n",
              "      <td>8.833333</td>\n",
              "      <td>318.0</td>\n",
              "      <td>318.0</td>\n",
              "      <td>2.198113</td>\n",
              "      <td>0.0</td>\n",
              "      <td>6.874214</td>\n",
              "    </tr>\n",
              "    <tr>\n",
              "      <th>9</th>\n",
              "      <td>46</td>\n",
              "      <td>https://insights.blackcoffer.com/deep-learning...</td>\n",
              "      <td>64.0</td>\n",
              "      <td>-30.0</td>\n",
              "      <td>1.0</td>\n",
              "      <td>0.099788</td>\n",
              "      <td>9.915789</td>\n",
              "      <td>0.998938</td>\n",
              "      <td>4.365891</td>\n",
              "      <td>9.915789</td>\n",
              "      <td>941.0</td>\n",
              "      <td>942.0</td>\n",
              "      <td>2.453291</td>\n",
              "      <td>8.0</td>\n",
              "      <td>7.326964</td>\n",
              "    </tr>\n",
              "  </tbody>\n",
              "</table>\n",
              "</div>\n",
              "      <button class=\"colab-df-convert\" onclick=\"convertToInteractive('df-50c7d5ef-23f9-42f9-a972-bfdca5ca4d93')\"\n",
              "              title=\"Convert this dataframe to an interactive table.\"\n",
              "              style=\"display:none;\">\n",
              "        \n",
              "  <svg xmlns=\"http://www.w3.org/2000/svg\" height=\"24px\"viewBox=\"0 0 24 24\"\n",
              "       width=\"24px\">\n",
              "    <path d=\"M0 0h24v24H0V0z\" fill=\"none\"/>\n",
              "    <path d=\"M18.56 5.44l.94 2.06.94-2.06 2.06-.94-2.06-.94-.94-2.06-.94 2.06-2.06.94zm-11 1L8.5 8.5l.94-2.06 2.06-.94-2.06-.94L8.5 2.5l-.94 2.06-2.06.94zm10 10l.94 2.06.94-2.06 2.06-.94-2.06-.94-.94-2.06-.94 2.06-2.06.94z\"/><path d=\"M17.41 7.96l-1.37-1.37c-.4-.4-.92-.59-1.43-.59-.52 0-1.04.2-1.43.59L10.3 9.45l-7.72 7.72c-.78.78-.78 2.05 0 2.83L4 21.41c.39.39.9.59 1.41.59.51 0 1.02-.2 1.41-.59l7.78-7.78 2.81-2.81c.8-.78.8-2.07 0-2.86zM5.41 20L4 18.59l7.72-7.72 1.47 1.35L5.41 20z\"/>\n",
              "  </svg>\n",
              "      </button>\n",
              "      \n",
              "  <style>\n",
              "    .colab-df-container {\n",
              "      display:flex;\n",
              "      flex-wrap:wrap;\n",
              "      gap: 12px;\n",
              "    }\n",
              "\n",
              "    .colab-df-convert {\n",
              "      background-color: #E8F0FE;\n",
              "      border: none;\n",
              "      border-radius: 50%;\n",
              "      cursor: pointer;\n",
              "      display: none;\n",
              "      fill: #1967D2;\n",
              "      height: 32px;\n",
              "      padding: 0 0 0 0;\n",
              "      width: 32px;\n",
              "    }\n",
              "\n",
              "    .colab-df-convert:hover {\n",
              "      background-color: #E2EBFA;\n",
              "      box-shadow: 0px 1px 2px rgba(60, 64, 67, 0.3), 0px 1px 3px 1px rgba(60, 64, 67, 0.15);\n",
              "      fill: #174EA6;\n",
              "    }\n",
              "\n",
              "    [theme=dark] .colab-df-convert {\n",
              "      background-color: #3B4455;\n",
              "      fill: #D2E3FC;\n",
              "    }\n",
              "\n",
              "    [theme=dark] .colab-df-convert:hover {\n",
              "      background-color: #434B5C;\n",
              "      box-shadow: 0px 1px 3px 1px rgba(0, 0, 0, 0.15);\n",
              "      filter: drop-shadow(0px 1px 2px rgba(0, 0, 0, 0.3));\n",
              "      fill: #FFFFFF;\n",
              "    }\n",
              "  </style>\n",
              "\n",
              "      <script>\n",
              "        const buttonEl =\n",
              "          document.querySelector('#df-50c7d5ef-23f9-42f9-a972-bfdca5ca4d93 button.colab-df-convert');\n",
              "        buttonEl.style.display =\n",
              "          google.colab.kernel.accessAllowed ? 'block' : 'none';\n",
              "\n",
              "        async function convertToInteractive(key) {\n",
              "          const element = document.querySelector('#df-50c7d5ef-23f9-42f9-a972-bfdca5ca4d93');\n",
              "          const dataTable =\n",
              "            await google.colab.kernel.invokeFunction('convertToInteractive',\n",
              "                                                     [key], {});\n",
              "          if (!dataTable) return;\n",
              "\n",
              "          const docLinkHtml = 'Like what you see? Visit the ' +\n",
              "            '<a target=\"_blank\" href=https://colab.research.google.com/notebooks/data_table.ipynb>data table notebook</a>'\n",
              "            + ' to learn more about interactive tables.';\n",
              "          element.innerHTML = '';\n",
              "          dataTable['output_type'] = 'display_data';\n",
              "          await google.colab.output.renderOutput(dataTable, element);\n",
              "          const docLink = document.createElement('div');\n",
              "          docLink.innerHTML = docLinkHtml;\n",
              "          element.appendChild(docLink);\n",
              "        }\n",
              "      </script>\n",
              "    </div>\n",
              "  </div>\n",
              "  "
            ]
          },
          "metadata": {},
          "execution_count": 95
        }
      ]
    },
    {
      "cell_type": "code",
      "source": [
        "final_data.to_excel('output.xlsx', index=False)"
      ],
      "metadata": {
        "id": "h3ADyf1ZF9cE"
      },
      "execution_count": 96,
      "outputs": []
    }
  ]
}